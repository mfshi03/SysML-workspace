{
 "cells": [
  {
   "cell_type": "code",
   "execution_count": null,
   "metadata": {},
   "outputs": [],
   "source": [
    "package 'Rocket Ship' {\n",
    "    block 'Rocket' {\n",
    "        value propellantMass :> Mass;\n",
    "        value thrust :> Force;\n",
    "        value burnTime :> Time;\n",
    "        value specificImpulse :> SpecificImpulse;\n",
    "        value dryMass :> Mass;\n",
    "        value totalMass :> Mass = dryMass + propellantMass;\n",
    "        value propellantFlowRate :> MassRate = propellantMass / burnTime;\n",
    "        value exhaustVelocity :> Velocity = specificImpulse * g0;\n",
    "        value thrust = propellantFlowRate * exhaustVelocity;\n",
    "    }\n",
    "    \n",
    "    block 'Engine' {\n",
    "        value thrust :> Force;\n",
    "        value specificImpulse :> SpecificImpulse;\n",
    "        value propellantFlowRate :> MassRate;\n",
    "        value exhaustVelocity :> Velocity = specificImpulse * g0;\n",
    "        value thrust = propellantFlowRate * exhaustVelocity;\n",
    "    }\n",
    "    \n",
    "    block 'Fuel Tank' {\n",
    "        value propellantMass :> Mass;\n",
    "    }\n",
    "    \n",
    "    block 'Payload' {\n",
    "        value payloadMass :> Mass;\n",
    "    }\n",
    "    \n",
    "    block 'Rocket Ship' {\n",
    "        part engine : Engine;\n",
    "        part fuelTank : Fuel Tank;\n",
    "        part payload : Payload;\n",
    "    }\n",
    "}\n"
   ]
  }
 ],
 "metadata": {
  "language_info": {
   "name": "python"
  }
 },
 "nbformat": 4,
 "nbformat_minor": 2
}
