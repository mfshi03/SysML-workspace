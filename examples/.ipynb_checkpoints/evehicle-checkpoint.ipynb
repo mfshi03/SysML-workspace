{
 "cells": [
  {
   "cell_type": "code",
   "execution_count": 4,
   "id": "030ff10b",
   "metadata": {},
   "outputs": [
    {
     "name": "stderr",
     "output_type": "stream",
     "text": [
      "ERROR:no viable alternative at input 'maxSpeed' (4.sysml line : 11 column : 11)\n",
      "ERROR:no viable alternative at input 'tractionControlEnabled' (4.sysml line : 12 column : 11)\n",
      "ERROR:no viable alternative at input 'snowPlowAttached' (4.sysml line : 21 column : 11)\n",
      "ERROR:no viable alternative at input 'heatingElements' (4.sysml line : 22 column : 11)\n",
      "ERROR:no viable alternative at input 'temperatureRange' (4.sysml line : 32 column : 11)\n"
     ]
    },
    {
     "data": {
      "text/plain": []
     },
     "execution_count": 4,
     "metadata": {},
     "output_type": "execute_result"
    }
   ],
   "source": [
    "package UGV_SnowyEnvironment {\n",
    "  import BaseLibraries::Systems;\n",
    "\n",
    "  part UGV {\n",
    "    part def mobility;\n",
    "    part def sensors;\n",
    "    part def environmentalAdaptation;\n",
    "  }\n",
    "\n",
    "  part MobilitySystem {\n",
    "    value maxSpeed;\n",
    "    value tractionControlEnabled;\n",
    "  }\n",
    "\n",
    "  part SensorSystem {\n",
    "    part lidar: LidarSensor;\n",
    "    part thermalCamera: ThermalCamera;\n",
    "  }\n",
    "\n",
    "  part SnowAdaptationSystem {\n",
    "    value snowPlowAttached: Boolean;\n",
    "    value heatingElements: HeatingElement[*];\n",
    "  }\n",
    "\n",
    "  part LidarSensor {\n",
    "  }\n",
    "\n",
    "  part ThermalCamera {\n",
    "  }\n",
    "\n",
    "  part HeatingElement {\n",
    "    value temperatureRange: TemperatureRange;\n",
    "  }\n",
    "}\n"
   ]
  },
  {
   "cell_type": "code",
   "execution_count": null,
   "id": "566a9d91",
   "metadata": {},
   "outputs": [],
   "source": []
  },
  {
   "cell_type": "code",
   "execution_count": null,
   "id": "cc36f61d",
   "metadata": {},
   "outputs": [],
   "source": []
  },
  {
   "cell_type": "code",
   "execution_count": null,
   "id": "d46daadf",
   "metadata": {},
   "outputs": [],
   "source": []
  }
 ],
 "metadata": {
  "kernelspec": {
   "display_name": "SysML",
   "language": "sysml",
   "name": "sysml"
  },
  "language_info": {
   "codemirror_mode": "sysml",
   "file_extension": ".sysml",
   "mimetype": "text/x-sysml",
   "name": "SysML",
   "pygments_lexer": "java",
   "version": "1.0.0"
  }
 },
 "nbformat": 4,
 "nbformat_minor": 5
}
