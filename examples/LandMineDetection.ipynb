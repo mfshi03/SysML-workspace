{
 "cells": [
  {
   "cell_type": "code",
   "execution_count": 1,
   "id": "fab45061",
   "metadata": {},
   "outputs": [
    {
     "name": "stderr",
     "output_type": "stream",
     "text": [
      "ERROR:Couldn't resolve reference to Namespace 'BaseTypes'. (1.sysml line : 2 column : 10)\n",
      "ERROR:Couldn't resolve reference to Type 'String'. (1.sysml line : 5 column : 24)\n",
      "ERROR:Couldn't resolve reference to Type 'Real'. (1.sysml line : 12 column : 26)\n",
      "ERROR:Couldn't resolve reference to Type 'String'. (1.sysml line : 16 column : 23)\n",
      "ERROR:Couldn't resolve reference to Type 'String'. (1.sysml line : 17 column : 26)\n",
      "ERROR:Couldn't resolve reference to Type 'String'. (1.sysml line : 25 column : 23)\n",
      "ERROR:Couldn't resolve reference to Type 'String'. (1.sysml line : 33 column : 21)\n",
      "ERROR:Couldn't resolve reference to Type 'String'. (1.sysml line : 37 column : 21)\n",
      "ERROR:Couldn't resolve reference to Type 'String'. (1.sysml line : 46 column : 21)\n",
      "ERROR:Couldn't resolve reference to Type 'Real'. (1.sysml line : 60 column : 18)\n",
      "ERROR:Couldn't resolve reference to Type 'Real'. (1.sysml line : 61 column : 18)\n",
      "ERROR:An attribute must be typed by attribute definitions. (1.sysml line : 5 column : 5)\n",
      "ERROR:An attribute must be typed by attribute definitions. (1.sysml line : 12 column : 5)\n",
      "ERROR:An attribute must be typed by attribute definitions. (1.sysml line : 16 column : 5)\n",
      "ERROR:An attribute must be typed by attribute definitions. (1.sysml line : 17 column : 5)\n",
      "ERROR:An attribute must be typed by attribute definitions. (1.sysml line : 25 column : 5)\n",
      "ERROR:An attribute must be typed by attribute definitions. (1.sysml line : 33 column : 5)\n",
      "ERROR:An attribute must be typed by attribute definitions. (1.sysml line : 37 column : 5)\n",
      "ERROR:An attribute must be typed by attribute definitions. (1.sysml line : 42 column : 5)\n",
      "ERROR:Features must have at least one type (1.sysml line : 42 column : 5)\n",
      "ERROR:An attribute must be typed by attribute definitions. (1.sysml line : 46 column : 5)\n",
      "ERROR:An attribute must be typed by attribute definitions. (1.sysml line : 60 column : 5)\n",
      "ERROR:An attribute must be typed by attribute definitions. (1.sysml line : 61 column : 5)\n"
     ]
    },
    {
     "data": {
      "text/plain": []
     },
     "execution_count": 1,
     "metadata": {},
     "output_type": "execute_result"
    }
   ],
   "source": [
    "package LandmineDetectionSystem {\n",
    "  import BaseTypes::*;\n",
    "  \n",
    "  part def BaseSecurityControlCenter {\n",
    "    attribute antenna: String;\n",
    "    part radio: Radio;\n",
    "    action sendCommand;\n",
    "    action receiveData;\n",
    "  }\n",
    "\n",
    "  part def Radio {\n",
    "    attribute frequency: Real;\n",
    "  }\n",
    "\n",
    "  part def UAS {\n",
    "    attribute camera: String;\n",
    "    attribute algorithm: String; // AI/ML for detection/identification\n",
    "    part dataLinkToUGV: DataLink;\n",
    "    action captureVideo;\n",
    "    action sendReconData;\n",
    "    action receiveUGVData;\n",
    "  }\n",
    "\n",
    "  part def UGV {\n",
    "    attribute sensor: String;\n",
    "    part dataLinkToUAS: DataLink;\n",
    "    part opticSensor: OpticSensor;\n",
    "    action detectLandmines;\n",
    "    action sendDataToUAS;\n",
    "  }\n",
    "\n",
    "  part def OpticSensor {\n",
    "    attribute type: String;\n",
    "  }\n",
    "\n",
    "  part def DataLink {\n",
    "    attribute type: String;\n",
    "    action transmitData;\n",
    "  }\n",
    "\n",
    "  part def Landmine {\n",
    "    attribute location: Point;\n",
    "  }\n",
    "\n",
    "  part def Terrain {\n",
    "    attribute type: String;\n",
    "  }\n",
    "\n",
    "  part def LandmineDetectionMission {\n",
    "    part base: BaseSecurityControlCenter[1];\n",
    "    part uas: UAS[1];\n",
    "    part ugv: UGV[1];\n",
    "    part landmines: Landmine[*];\n",
    "    part terrain: Terrain[1];\n",
    "    action executeMission;\n",
    "  }\n",
    "\n",
    "  // Define the data types used above\n",
    "  part def Point {\n",
    "    attribute x: Real;\n",
    "    attribute y: Real;\n",
    "  }\n",
    "}\n"
   ]
  },
  {
   "cell_type": "code",
   "execution_count": null,
   "id": "8f0adb05",
   "metadata": {},
   "outputs": [],
   "source": []
  }
 ],
 "metadata": {
  "kernelspec": {
   "display_name": "SysML",
   "language": "sysml",
   "name": "sysml"
  },
  "language_info": {
   "codemirror_mode": "sysml",
   "file_extension": ".sysml",
   "mimetype": "text/x-sysml",
   "name": "SysML",
   "pygments_lexer": "java",
   "version": "1.0.0"
  }
 },
 "nbformat": 4,
 "nbformat_minor": 5
}
