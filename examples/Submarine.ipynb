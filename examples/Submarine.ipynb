{
 "cells": [
  {
   "cell_type": "code",
   "execution_count": 30,
   "id": "2b90e2a7",
   "metadata": {},
   "outputs": [
    {
     "data": {
      "text/plain": [
       "Package Detection (29796113-9511-43c6-9615-4ca1fe7a268d)\n"
      ]
     },
     "execution_count": 30,
     "metadata": {},
     "output_type": "execute_result"
    }
   ],
   "source": [
    "package Detection {\n",
    "\tpart def Exposure;\n",
    "\t\n",
    "\taction def Focus { out xrsl: Exposure; }\n",
    "\taction def Shoot { in xsf: Exposure; }\t\n",
    "\t\t\n",
    "\taction takePicture {\t\t\n",
    "\t\taction focus: Focus[1];\n",
    "\t\tflow focus.xrsl to shoot.xsf;\n",
    "\t\taction shoot: Shoot[1];\n",
    "\t}\n",
    "}"
   ]
  },
  {
   "cell_type": "code",
   "execution_count": 36,
   "id": "b685bffe",
   "metadata": {},
   "outputs": [
    {
     "data": {
      "text/plain": [
       "Package SubmarineDetectionSystem (91049927-4d40-4de0-9a5e-5c14c2343063)\n"
      ]
     },
     "execution_count": 36,
     "metadata": {},
     "output_type": "execute_result"
    }
   ],
   "source": [
    "package SubmarineDetectionSystem {\n",
    "\timport Detection::*;\n",
    "    perform action takePicture[*] :> Detection::takePicture;\n",
    "\n",
    "    part def Sensors {\n",
    "        part sonar: Sonar;\n",
    "        part radar: Radar;\n",
    "        // Additional sensors can be added here\n",
    "    }\n",
    "    \n",
    "    part def Sonar {\n",
    "        // Other sonar specific attributes\n",
    "    }\n",
    "\n",
    "    part def Radar {\n",
    "        // Radar specific attributes\n",
    "    }\n",
    "\n",
    "    part def DataProcessingUnit {\n",
    "        // Attributes and operations for data processing\n",
    "    }\n",
    "\n",
    "    part def CommunicationSystem {\n",
    "        // Attributes and operations for communication\n",
    "    }\n",
    "\n",
    "    part def PowerSupply {\n",
    "        // Attributes for power supply specifications\n",
    "    }\n",
    "\n",
    "    part def UserInterface {\n",
    "        // Attributes for user interface components\n",
    "    }\n",
    "\n",
    "}\n"
   ]
  },
  {
   "cell_type": "code",
   "execution_count": 38,
   "id": "5bd7c859",
   "metadata": {},
   "outputs": [
    {
     "data": {
      "image/svg+xml": [
       "<?xml version=\"1.0\" encoding=\"UTF-8\" standalone=\"no\"?><svg xmlns=\"http://www.w3.org/2000/svg\" xmlns:xlink=\"http://www.w3.org/1999/xlink\" contentStyleType=\"text/css\" height=\"113px\" preserveAspectRatio=\"none\" style=\"width:603px;height:113px;background:#FFFFFF;\" version=\"1.1\" viewBox=\"0 0 603 113\" width=\"603px\" zoomAndPan=\"magnify\"><defs/><g><!--MD5=[fbc87193dbaf4d95561dea2c320d4a47]\n",
       "cluster E1--><g id=\"cluster_E1\"><a href=\"psysml:d21f5bcd-4da9-4de5-92cf-bff56feda78e\" target=\"_top\" title=\"psysml:d21f5bcd-4da9-4de5-92cf-bff56feda78e\" xlink:actuate=\"onRequest\" xlink:href=\"psysml:d21f5bcd-4da9-4de5-92cf-bff56feda78e\" xlink:show=\"new\" xlink:title=\"psysml:d21f5bcd-4da9-4de5-92cf-bff56feda78e\" xlink:type=\"simple\"><polygon fill=\"none\" points=\"16,6,98,6,105,28.4883,586,28.4883,586,106,16,106,16,6\" style=\"stroke:#000000;stroke-width:1.5;\"/><line style=\"stroke:#000000;stroke-width:1.5;\" x1=\"16\" x2=\"105\" y1=\"28.4883\" y2=\"28.4883\"/><text fill=\"#000000\" font-family=\"sans-serif\" font-size=\"14\" font-weight=\"bold\" lengthAdjust=\"spacing\" textLength=\"76\" x=\"20\" y=\"21.5352\">Submarine</text></a></g><!--MD5=[b4997ac47864f28c2f74865a473b2911]\n",
       "class E2--><a href=\"psysml:58118782-90ec-4055-b323-5d360151777c\" target=\"_top\" title=\"psysml:58118782-90ec-4055-b323-5d360151777c\" xlink:actuate=\"onRequest\" xlink:href=\"psysml:58118782-90ec-4055-b323-5d360151777c\" xlink:show=\"new\" xlink:title=\"psysml:58118782-90ec-4055-b323-5d360151777c\" xlink:type=\"simple\"><g id=\"elem_E2\"><rect fill=\"#FFFFFF\" height=\"48.6211\" id=\"E2\" style=\"stroke:#181818;stroke-width:0.5;\" width=\"65\" x=\"504.5\" y=\"41\"/><text fill=\"#000000\" font-family=\"sans-serif\" font-size=\"12\" font-style=\"italic\" lengthAdjust=\"spacing\" textLength=\"63\" x=\"505.5\" y=\"57.6016\">«part  def»</text><text fill=\"#000000\" font-family=\"sans-serif\" font-size=\"14\" lengthAdjust=\"spacing\" textLength=\"40\" x=\"517\" y=\"73.668\">Sonar</text><line style=\"stroke:#181818;stroke-width:0.5;\" x1=\"505.5\" x2=\"568.5\" y1=\"81.6211\" y2=\"81.6211\"/></g></a><!--MD5=[09b614a08d8cba4a07c9adeb5e0fee81]\n",
       "class E3--><a href=\"psysml:a5364b6a-48a7-419f-b75a-0174797c588d\" target=\"_top\" title=\"psysml:a5364b6a-48a7-419f-b75a-0174797c588d\" xlink:actuate=\"onRequest\" xlink:href=\"psysml:a5364b6a-48a7-419f-b75a-0174797c588d\" xlink:show=\"new\" xlink:title=\"psysml:a5364b6a-48a7-419f-b75a-0174797c588d\" xlink:type=\"simple\"><g id=\"elem_E3\"><rect fill=\"#FFFFFF\" height=\"48.6211\" id=\"E3\" style=\"stroke:#181818;stroke-width:0.5;\" width=\"65\" x=\"404.5\" y=\"41\"/><text fill=\"#000000\" font-family=\"sans-serif\" font-size=\"12\" font-style=\"italic\" lengthAdjust=\"spacing\" textLength=\"63\" x=\"405.5\" y=\"57.6016\">«part  def»</text><text fill=\"#000000\" font-family=\"sans-serif\" font-size=\"14\" lengthAdjust=\"spacing\" textLength=\"40\" x=\"417\" y=\"73.668\">Radar</text><line style=\"stroke:#181818;stroke-width:0.5;\" x1=\"405.5\" x2=\"468.5\" y1=\"81.6211\" y2=\"81.6211\"/></g></a><!--MD5=[ebbe1d658d1005bcc118a6aa81145e00]\n",
       "class E4--><a href=\"psysml:1d7ce213-286c-4267-842e-df733178d4ec\" target=\"_top\" title=\"psysml:1d7ce213-286c-4267-842e-df733178d4ec\" xlink:actuate=\"onRequest\" xlink:href=\"psysml:1d7ce213-286c-4267-842e-df733178d4ec\" xlink:show=\"new\" xlink:title=\"psysml:1d7ce213-286c-4267-842e-df733178d4ec\" xlink:type=\"simple\"><g id=\"elem_E4\"><rect fill=\"#FFFFFF\" height=\"48.6211\" id=\"E4\" style=\"stroke:#181818;stroke-width:0.5;\" width=\"139\" x=\"230.5\" y=\"41\"/><text fill=\"#000000\" font-family=\"sans-serif\" font-size=\"12\" font-style=\"italic\" lengthAdjust=\"spacing\" textLength=\"63\" x=\"268.5\" y=\"57.6016\">«part  def»</text><text fill=\"#000000\" font-family=\"sans-serif\" font-size=\"14\" lengthAdjust=\"spacing\" textLength=\"133\" x=\"233.5\" y=\"73.668\">DataProcessingUnit</text><line style=\"stroke:#181818;stroke-width:0.5;\" x1=\"231.5\" x2=\"368.5\" y1=\"81.6211\" y2=\"81.6211\"/></g></a><!--MD5=[270fce915f116d4de14055a7c1d9a0f3]\n",
       "class E5--><a href=\"psysml:d9befc7f-f056-4f15-840b-fc4af54d7099\" target=\"_top\" title=\"psysml:d9befc7f-f056-4f15-840b-fc4af54d7099\" xlink:actuate=\"onRequest\" xlink:href=\"psysml:d9befc7f-f056-4f15-840b-fc4af54d7099\" xlink:show=\"new\" xlink:title=\"psysml:d9befc7f-f056-4f15-840b-fc4af54d7099\" xlink:type=\"simple\"><g id=\"elem_E5\"><rect fill=\"#FFFFFF\" height=\"48.6211\" id=\"E5\" style=\"stroke:#181818;stroke-width:0.5;\" width=\"163\" x=\"32.5\" y=\"41\"/><text fill=\"#000000\" font-family=\"sans-serif\" font-size=\"12\" font-style=\"italic\" lengthAdjust=\"spacing\" textLength=\"63\" x=\"82.5\" y=\"57.6016\">«part  def»</text><text fill=\"#000000\" font-family=\"sans-serif\" font-size=\"14\" lengthAdjust=\"spacing\" textLength=\"157\" x=\"35.5\" y=\"73.668\">CommunicationSystem</text><line style=\"stroke:#181818;stroke-width:0.5;\" x1=\"33.5\" x2=\"194.5\" y1=\"81.6211\" y2=\"81.6211\"/></g></a><!--MD5=[7b84b2bbbddab2c552f2056f4128a92d]\n",
       "@startuml\r\n",
       "skin sysmlbw\r\n",
       "skinparam monochrome true\r\n",
       "skinparam wrapWidth 300\r\n",
       "hide circle\r\n",
       "\r\n",
       "package \"Submarine\" as E1  [[psysml:d21f5bcd-4da9-4de5-92cf-bff56feda78e ]]  {\r\n",
       "comp def \"Sonar\" as E2  <<(T,blue) part  def>> [[psysml:58118782-90ec-4055-b323-5d360151777c ]] {\r\n",
       "}\r\n",
       "comp def \"Radar\" as E3  <<(T,blue) part  def>> [[psysml:a5364b6a-48a7-419f-b75a-0174797c588d ]] {\r\n",
       "}\r\n",
       "comp def \"DataProcessingUnit\" as E4  <<(T,blue) part  def>> [[psysml:1d7ce213-286c-4267-842e-df733178d4ec ]] {\r\n",
       "}\r\n",
       "comp def \"CommunicationSystem\" as E5  <<(T,blue) part  def>> [[psysml:d9befc7f-f056-4f15-840b-fc4af54d7099 ]] {\r\n",
       "}\r\n",
       "}\r\n",
       "@enduml\r\n",
       "\n",
       "PlantUML version 1.2022.7(Mon Aug 22 13:01:30 EDT 2022)\n",
       "(EPL source distribution)\n",
       "Java Runtime: OpenJDK Runtime Environment\n",
       "JVM: OpenJDK 64-Bit Server VM\n",
       "Default Encoding: UTF-8\n",
       "Language: en\n",
       "Country: US\n",
       "--></g></svg>"
      ]
     },
     "execution_count": 38,
     "metadata": {},
     "output_type": "execute_result"
    }
   ],
   "source": [
    "%viz --view=Tree Submarine"
   ]
  },
  {
   "cell_type": "code",
   "execution_count": null,
   "id": "1c94d27e",
   "metadata": {},
   "outputs": [],
   "source": []
  }
 ],
 "metadata": {
  "kernelspec": {
   "display_name": "SysML",
   "language": "sysml",
   "name": "sysml"
  },
  "language_info": {
   "codemirror_mode": "sysml",
   "file_extension": ".sysml",
   "mimetype": "text/x-sysml",
   "name": "SysML",
   "pygments_lexer": "java",
   "version": "1.0.0"
  }
 },
 "nbformat": 4,
 "nbformat_minor": 5
}
