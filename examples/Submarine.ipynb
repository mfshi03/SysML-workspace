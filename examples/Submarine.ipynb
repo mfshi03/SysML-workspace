{
 "cells": [
  {
   "cell_type": "code",
   "execution_count": 1,
   "id": "37cb3ca2",
   "metadata": {},
   "outputs": [
    {
     "data": {
      "text/plain": [
       "Package Detection (264fc7ef-4d63-488c-af74-a6bba51d09c5)\n"
      ]
     },
     "execution_count": 1,
     "metadata": {},
     "output_type": "execute_result"
    }
   ],
   "source": [
    "package Detection {\n",
    "\tpart def Exposure;\n",
    "\t\n",
    "\taction def Focus { out xrsl: Exposure; }\n",
    "\taction def Shoot { in xsf: Exposure; }\t\n",
    "\t\t\n",
    "\taction takePicture {\t\t\n",
    "\t\taction focus: Focus[1];\n",
    "\t\tflow focus.xrsl to shoot.xsf;\n",
    "\t\taction shoot: Shoot[1];\n",
    "\t}\n",
    "}"
   ]
  },
  {
   "cell_type": "code",
   "execution_count": 2,
   "id": "8cf40e64",
   "metadata": {},
   "outputs": [
    {
     "data": {
      "text/plain": [
       "Package SubmarineDetectionSystem (b5443605-e162-4d2f-ad4a-31c54f2876b7)\n"
      ]
     },
     "execution_count": 2,
     "metadata": {},
     "output_type": "execute_result"
    }
   ],
   "source": [
    "package SubmarineDetectionSystem {\n",
    "\timport Detection::*;\n",
    "    perform action takePicture[*] :> Detection::takePicture;\n",
    "\n",
    "    part def Sensors {\n",
    "        part sonar: Sonar;\n",
    "        part radar: Radar;\n",
    "    }\n",
    "    \n",
    "    part def Sonar {\n",
    "        // Other sonar specific attributes\n",
    "    }\n",
    "\n",
    "    part def Radar {\n",
    "        // Radar specific attributes\n",
    "    }\n",
    "\n",
    "    part def DataProcessingUnit {\n",
    "        // Attributes and operations for data processing\n",
    "    }\n",
    "\n",
    "    part def CommunicationSystem {\n",
    "        // Attributes and operations for communication\n",
    "    }\n",
    "\n",
    "    part def PowerSupply {\n",
    "        // Attributes for power supply specifications\n",
    "    }\n",
    "\n",
    "    part def UserInterface {\n",
    "        // Attributes for user interface components\n",
    "    }\n",
    "\n",
    "}\n"
   ]
  },
  {
   "cell_type": "code",
   "execution_count": 3,
   "id": "e7e9d399",
   "metadata": {},
   "outputs": [
    {
     "data": {
      "text/plain": [
       "ERROR:Couldn't resolve reference to Element 'Submarine'\n"
      ]
     },
     "execution_count": 3,
     "metadata": {},
     "output_type": "execute_result"
    }
   ],
   "source": [
    "%viz --view=Tree Submarine"
   ]
  },
  {
   "cell_type": "code",
   "execution_count": null,
   "id": "fe0f8ec5",
   "metadata": {},
   "outputs": [],
   "source": []
  }
 ],
 "metadata": {
  "kernelspec": {
   "display_name": "SysML",
   "language": "sysml",
   "name": "sysml"
  },
  "language_info": {
   "codemirror_mode": "sysml",
   "file_extension": ".sysml",
   "mimetype": "text/x-sysml",
   "name": "SysML",
   "pygments_lexer": "java",
   "version": "1.0.0"
  }
 },
 "nbformat": 4,
 "nbformat_minor": 5
}
