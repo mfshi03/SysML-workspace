{
 "cells": [
  {
   "cell_type": "code",
   "execution_count": 11,
   "id": "a378a40a",
   "metadata": {},
   "outputs": [
    {
     "data": {
      "text/plain": [
       "Package DetectionProcesses (4a4b616d-13cb-4d14-a146-7fc5650f88c0)\n"
      ]
     },
     "execution_count": 11,
     "metadata": {},
     "output_type": "execute_result"
    }
   ],
   "source": [
    "package DetectionProcesses {\n",
    "    action def Detect { out detectionSignal; }\n",
    "    action def Process { in signal; out processedData; }\n",
    "    action def Transmit { in data; }\n",
    "\n",
    "    action detectSubmarine {\n",
    "        action useSonar: Detect[1];\n",
    "        action useRadar: Detect[1];\n",
    "        flow useSonar.detectionSignal to processData.signal;\n",
    "        flow useRadar.detectionSignal to processData.signal;\n",
    "        action processData: Process[1];\n",
    "        flow processData.processedData to transmitData.data;\n",
    "        action transmitData: Transmit[1];\n",
    "    }\n",
    "    action processData {\n",
    "        action analyze: Process[1];\n",
    "    }\n",
    "    // Additional actions and flows can be defined here\n",
    "}"
   ]
  },
  {
   "cell_type": "code",
   "execution_count": 2,
   "id": "8e763938",
   "metadata": {},
   "outputs": [
    {
     "name": "stderr",
     "output_type": "stream",
     "text": [
      "ERROR:Couldn't resolve reference to Namespace 'DetectionProcesses'. (2.sysml line : 2 column : 12)\n",
      "ERROR:Couldn't resolve reference to Feature 'DetectionProcesses::detectSubmarine'. (2.sysml line : 5 column : 46)\n",
      "ERROR:Couldn't resolve reference to Feature 'useSonar'. (2.sysml line : 8 column : 37)\n",
      "ERROR:Couldn't resolve reference to Feature 'useRadar'. (2.sysml line : 12 column : 37)\n",
      "ERROR:Couldn't resolve reference to Feature 'DetectionProcesses::processData'. (2.sysml line : 17 column : 42)\n",
      "ERROR:Couldn't resolve reference to Feature 'analyze'. (2.sysml line : 20 column : 33)\n",
      "ERROR:Couldn't resolve reference to Feature 'DetectionProcesses::processData'. (2.sysml line : 26 column : 43)\n",
      "ERROR:Must reference an action. (2.sysml line : 8 column : 21)\n",
      "ERROR:Must reference an action. (2.sysml line : 12 column : 21)\n",
      "ERROR:Must reference an action. (2.sysml line : 20 column : 21)\n"
     ]
    },
    {
     "data": {
      "text/plain": []
     },
     "execution_count": 2,
     "metadata": {},
     "output_type": "execute_result"
    }
   ],
   "source": [
    "package SubmarineDetectionSystem {\n",
    "    import DetectionProcesses::*;\n",
    "\n",
    "    part def Sensors {\n",
    "        perform action detectSubmarine[*] :> DetectionProcesses::detectSubmarine;\n",
    "\n",
    "        part sonarSubsystem {\n",
    "            perform detectSubmarine.useSonar;\n",
    "        }\n",
    "\n",
    "        part radarSubsystem {\n",
    "            perform detectSubmarine.useRadar;\n",
    "        }\n",
    "    }\n",
    "\n",
    "    part def DataProcessingUnit {\n",
    "        perform action processData[*] :> DetectionProcesses::processData;\n",
    "\n",
    "        part analysisSubsystem {\n",
    "            perform processData.analyze;\n",
    "        }\n",
    "\n",
    "    }\n",
    "\n",
    "    part def CommunicationSystem {\n",
    "        perform action transmitData[*] :> DetectionProcesses::processData;\n",
    "    }\n",
    "\n",
    "    part def PowerSupply {\n",
    "        // Power supply specific actions and interactions\n",
    "    }\n",
    "\n",
    "    part def UserInterface {\n",
    "        // User interface specific actions and interactions\n",
    "    }\n",
    "\n",
    "}\n"
   ]
  },
  {
   "cell_type": "code",
   "execution_count": 1,
   "id": "880ea0b9",
   "metadata": {},
   "outputs": [
    {
     "data": {
      "text/plain": [
       "ERROR:Couldn't resolve reference to Element 'SubmarineDetectionSystem'\n"
      ]
     },
     "execution_count": 1,
     "metadata": {},
     "output_type": "execute_result"
    }
   ],
   "source": [
    "%viz --view=tree  SubmarineDetectionSystem"
   ]
  },
  {
   "cell_type": "code",
   "execution_count": null,
   "id": "26224928",
   "metadata": {},
   "outputs": [],
   "source": []
  }
 ],
 "metadata": {
  "kernelspec": {
   "display_name": "SysML",
   "language": "sysml",
   "name": "sysml"
  },
  "language_info": {
   "codemirror_mode": "sysml",
   "file_extension": ".sysml",
   "mimetype": "text/x-sysml",
   "name": "SysML",
   "pygments_lexer": "java",
   "version": "1.0.0"
  }
 },
 "nbformat": 4,
 "nbformat_minor": 5
}
