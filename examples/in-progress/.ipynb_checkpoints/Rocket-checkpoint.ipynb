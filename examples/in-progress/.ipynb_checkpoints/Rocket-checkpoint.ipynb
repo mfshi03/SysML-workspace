{
 "cells": [
  {
   "cell_type": "code",
   "execution_count": null,
   "metadata": {},
   "outputs": [],
   "source": [
    "package 'Rocket Ship' {\n",
    "    block 'Rocket' {\n",
    "        value propellantMass :> Mass;\n",
    "        value thrust :> Force;\n",
    "        value burnTime :> Time;\n",
    "        value specificImpulse :> SpecificImpulse;\n",
    "        value dryMass :> Mass;\n",
    "        value totalMass :> Mass = dryMass + propellantMass;\n",
    "        value propellantFlowRate :> MassRate = propellantMass / burnTime;\n",
    "        value exhaustVelocity :> Velocity = specificImpulse * g0;\n",
    "        value thrust = propellantFlowRate * exhaustVelocity;\n",
    "    }\n",
    "    \n",
    "    block 'Engine' {\n",
    "        value thrust :> Force;\n",
    "        value specificImpulse :> SpecificImpulse;\n",
    "        value propellantFlowRate :> MassRate;\n",
    "        value exhaustVelocity :> Velocity = specificImpulse * g0;\n",
    "        value thrust = propellantFlowRate * exhaustVelocity;\n",
    "    }\n",
    "    \n",
    "    block 'Fuel Tank' {\n",
    "        value propellantMass :> Mass;\n",
    "    }\n",
    "    \n",
    "    block 'Payload' {\n",
    "        value payloadMass :> Mass;\n",
    "    }\n",
    "    \n",
    "    block 'Rocket Ship' {\n",
    "        part engine : Engine;\n",
    "        part fuelTank : Fuel Tank;\n",
    "        part payload : Payload;\n",
    "    }\n",
    "}\n"
   ]
  }
 ],
 "metadata": {
  "kernelspec": {
   "display_name": "Python 3 (ipykernel)",
   "language": "python",
   "name": "python3"
  },
  "language_info": {
   "codemirror_mode": {
    "name": "ipython",
    "version": 3
   },
   "file_extension": ".py",
   "mimetype": "text/x-python",
   "name": "python",
   "nbconvert_exporter": "python",
   "pygments_lexer": "ipython3",
   "version": "3.11.0"
  }
 },
 "nbformat": 4,
 "nbformat_minor": 4
}
