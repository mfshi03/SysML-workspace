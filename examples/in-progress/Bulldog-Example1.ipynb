{
 "cells": [
  {
   "cell_type": "markdown",
   "id": "dcbd15e0",
   "metadata": {},
   "source": [
    "package UnmannedSystemsInteractions {\n",
    "  import Base::Station;\n",
    "  import Vehicles::UnmannedAerialSystem;\n",
    "  import Vehicles::UnmannedGroundVehicle;\n",
    "\n",
    "  part definition BaseStation : Station {\n",
    "    // Define the base station properties and behaviors here\n",
    "  }\n",
    "\n",
    "  part definition UAS : UnmannedAerialSystem {\n",
    "    // Define UAS properties, such as sensors and communication links\n",
    "  }\n",
    "\n",
    "  part definition UGV : UnmannedGroundVehicle {\n",
    "    // Define UGV properties, including optics and detection systems\n",
    "  }\n",
    "\n",
    "  // An example of an interaction between the UAS, UGV, and BaseStation\n",
    "  interaction LandmineDetection {\n",
    "    // Define the sequence of messages and commands for landmine detection\n",
    "  }\n",
    "}\n",
    "\n",
    "package Base {\n",
    "  block Station {\n",
    "    // Properties and operations for the base station\n",
    "  }\n",
    "}\n",
    "\n",
    "package Vehicles {\n",
    "  block UnmannedAerialSystem {\n",
    "    // Properties and operations for the UAS\n",
    "  }\n",
    "\n",
    "  block UnmannedGroundVehicle {\n",
    "    // Properties and operations for the UGV\n",
    "  }\n",
    "}"
   ]
  },
  {
   "cell_type": "code",
   "execution_count": null,
   "id": "49a1b72a",
   "metadata": {},
   "outputs": [],
   "source": []
  }
 ],
 "metadata": {
  "kernelspec": {
   "display_name": "SysML",
   "language": "sysml",
   "name": "sysml"
  },
  "language_info": {
   "codemirror_mode": "sysml",
   "file_extension": ".sysml",
   "mimetype": "text/x-sysml",
   "name": "SysML",
   "pygments_lexer": "java",
   "version": "1.0.0"
  }
 },
 "nbformat": 4,
 "nbformat_minor": 5
}
