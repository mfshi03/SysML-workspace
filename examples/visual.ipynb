{
 "cells": [
  {
   "cell_type": "code",
   "execution_count": 2,
   "id": "d4898b89",
   "metadata": {},
   "outputs": [
    {
     "ename": "SyntaxError",
     "evalue": "invalid syntax (2174025046.py, line 1)",
     "output_type": "error",
     "traceback": [
      "\u001b[0;36m  Cell \u001b[0;32mIn[2], line 1\u001b[0;36m\u001b[0m\n\u001b[0;31m    package ProductSelection {\u001b[0m\n\u001b[0m            ^\u001b[0m\n\u001b[0;31mSyntaxError\u001b[0m\u001b[0;31m:\u001b[0m invalid syntax\n"
     ]
    }
   ],
   "source": [
    "package ProductSelection {\n",
    "\t\n",
    "\tclass SelectionInfo {}\n",
    "\tclass ShoppingCart {}\n",
    "\tclass Product {}\n",
    "\t\n",
    "\t// User-specified association definition\n",
    "\tassoc ProductSelection {\n",
    "\t\tfeature info: SelectionInfo;\n",
    "\t\t\n",
    "\t\tend cart: ShoppingCart[0..*];\n",
    "\t\tend selectedProduct: Product[0..*];\n",
    "\t}\n",
    "\t\n",
    "\t// Equivalent association definition showing library model specialization.\n",
    "\tassoc ProductSelection_ specializes Links::BinaryLink {\n",
    "\t\tfeature info: SelectionInfo;\n",
    "\t\t\n",
    "\t\tend cart: ShoppingCart[0..*] redefines source;\n",
    "\t\tend selectedProduct: Product[0..*] redefines target;\n",
    "\t\t\n",
    "//\t\tfeature cart_: ShoppingCart[1..1] redefines sourceParticipant;\n",
    "//\t\tfeature selectedProduct_: ShoppingCart[1..1] redefines targetParticipant;\n",
    "\t}\n",
    "\t\n",
    "\tfeature myCart: ShoppingCart;\n",
    "\t\n",
    "\tfeature product1: Product;\n",
    "\tfeature info1: SelectionInfo;\t\n",
    "\tfeature selection1: ProductSelection { \n",
    "\t\tfeature :>> info = info1; \n",
    "\t\tfeature :>> cart = myCart; \n",
    "\t\tfeature :>> selectedProduct = product1;\n",
    "\t}\n",
    "\t\n",
    "\tfeature product2: Product;\n",
    "\tfeature info2: SelectionInfo;\t\n",
    "\tfeature selection2: ProductSelection { \n",
    "\t\tfeature :>> info = info2; \n",
    "\t\tfeature :>> cart = myCart; \n",
    "\t\tfeature :>> selectedProduct = product2;\n",
    "\t}\n",
    "}"
   ]
  },
  {
   "cell_type": "code",
   "execution_count": 3,
   "id": "18db95d2",
   "metadata": {},
   "outputs": [
    {
     "name": "stderr",
     "output_type": "stream",
     "text": [
      "UsageError: Line magic function `%viz` not found.\n"
     ]
    }
   ],
   "source": [
    "%viz --view=tree ProductSelection"
   ]
  },
  {
   "cell_type": "code",
   "execution_count": null,
   "id": "9cc0bd2d",
   "metadata": {},
   "outputs": [],
   "source": []
  }
 ],
 "metadata": {
  "kernelspec": {
   "display_name": "Python 3 (ipykernel)",
   "language": "python",
   "name": "python3"
  },
  "language_info": {
   "codemirror_mode": {
    "name": "ipython",
    "version": 3
   },
   "file_extension": ".py",
   "mimetype": "text/x-python",
   "name": "python",
   "nbconvert_exporter": "python",
   "pygments_lexer": "ipython3",
   "version": "3.11.5"
  }
 },
 "nbformat": 4,
 "nbformat_minor": 5
}
