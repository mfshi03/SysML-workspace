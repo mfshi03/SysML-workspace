{
 "cells": [
  {
   "cell_type": "code",
   "execution_count": 2,
   "id": "09ec2567",
   "metadata": {},
   "outputs": [
    {
     "data": {
      "text/plain": [
       "Package Detection (d59a2f4f-82a9-4ce9-9442-e907cb5ca65d)\n"
      ]
     },
     "execution_count": 2,
     "metadata": {},
     "output_type": "execute_result"
    }
   ],
   "source": [
    "package Detection {\n",
    "\tpart def Exposure;\n",
    "\t\n",
    "\taction def Focus { out xrsl: Exposure; }\n",
    "\taction def Shoot { in xsf: Exposure; }\t\n",
    "\t\t\n",
    "\taction takePicture {\t\t\n",
    "\t\taction focus: Focus[1];\n",
    "\t\tflow focus.xrsl to shoot.xsf;\n",
    "\t\taction shoot: Shoot[1];\n",
    "\t}\n",
    "}"
   ]
  },
  {
   "cell_type": "code",
   "execution_count": 3,
   "id": "69cdbe5e",
   "metadata": {},
   "outputs": [
    {
     "data": {
      "text/plain": [
       "Package SubmarineDetectionSystem (88e5825f-38fc-4ab5-84fb-a7b927991451)\n"
      ]
     },
     "execution_count": 3,
     "metadata": {},
     "output_type": "execute_result"
    }
   ],
   "source": [
    "package SubmarineDetectionSystem {\n",
    "\timport Detection::*;\n",
    "    perform action takePicture[*] :> Detection::takePicture;\n",
    "\n",
    "    part def Sensors {\n",
    "        part sonar: Sonar;\n",
    "        part radar: Radar;\n",
    "    }\n",
    "    \n",
    "    part def Sonar {\n",
    "        // Other sonar specific attributes\n",
    "    }\n",
    "\n",
    "    part def Radar {\n",
    "        // Radar specific attributes\n",
    "    }\n",
    "\n",
    "    part def DataProcessingUnit {\n",
    "        // Attributes and operations for data processing\n",
    "    }\n",
    "\n",
    "    part def CommunicationSystem {\n",
    "        // Attributes and operations for communication\n",
    "    }\n",
    "\n",
    "    part def PowerSupply {\n",
    "        // Attributes for power supply specifications\n",
    "    }\n",
    "\n",
    "    part def UserInterface {\n",
    "        // Attributes for user interface components\n",
    "    }\n",
    "\n",
    "}\n"
   ]
  },
  {
   "cell_type": "code",
   "execution_count": 4,
   "id": "56c860d6",
   "metadata": {},
   "outputs": [
    {
     "data": {
      "image/svg+xml": [
       "<?xml version=\"1.0\" encoding=\"UTF-8\" standalone=\"no\"?><svg xmlns=\"http://www.w3.org/2000/svg\" xmlns:xlink=\"http://www.w3.org/1999/xlink\" contentStyleType=\"text/css\" height=\"331px\" preserveAspectRatio=\"none\" style=\"width:1054px;height:331px;background:#FFFFFF;\" version=\"1.1\" viewBox=\"0 0 1054 331\" width=\"1054px\" zoomAndPan=\"magnify\"><defs/><g><!--MD5=[fbc87193dbaf4d95561dea2c320d4a47]\n",
       "cluster E1--><g id=\"cluster_E1\"><a href=\"psysml:88e5825f-38fc-4ab5-84fb-a7b927991451\" target=\"_top\" title=\"psysml:88e5825f-38fc-4ab5-84fb-a7b927991451\" xlink:actuate=\"onRequest\" xlink:href=\"psysml:88e5825f-38fc-4ab5-84fb-a7b927991451\" xlink:show=\"new\" xlink:title=\"psysml:88e5825f-38fc-4ab5-84fb-a7b927991451\" xlink:type=\"simple\"><polygon fill=\"none\" points=\"16,6,219,6,226,28.4883,1037,28.4883,1037,324,16,324,16,6\" style=\"stroke:#000000;stroke-width:1.5;\"/><line style=\"stroke:#000000;stroke-width:1.5;\" x1=\"16\" x2=\"226\" y1=\"28.4883\" y2=\"28.4883\"/><text fill=\"#000000\" font-family=\"sans-serif\" font-size=\"14\" font-weight=\"bold\" lengthAdjust=\"spacing\" textLength=\"197\" x=\"20\" y=\"21.5352\">SubmarineDetectionSystem</text></a></g><!--MD5=[b4997ac47864f28c2f74865a473b2911]\n",
       "class E2--><a href=\"psysml:e3acf224-f418-43b8-8a69-886145b0bd03\" target=\"_top\" title=\"psysml:e3acf224-f418-43b8-8a69-886145b0bd03\" xlink:actuate=\"onRequest\" xlink:href=\"psysml:e3acf224-f418-43b8-8a69-886145b0bd03\" xlink:show=\"new\" xlink:title=\"psysml:e3acf224-f418-43b8-8a69-886145b0bd03\" xlink:type=\"simple\"><g id=\"elem_E2\"><rect fill=\"#FFFFFF\" height=\"48.6211\" id=\"E2\" rx=\"10\" ry=\"10\" style=\"stroke:#181818;stroke-width:0.5;\" width=\"254\" x=\"767\" y=\"41\"/><text fill=\"#000000\" font-family=\"sans-serif\" font-size=\"12\" font-style=\"italic\" lengthAdjust=\"spacing\" textLength=\"97\" x=\"845.5\" y=\"57.6016\">«perform action»</text><text fill=\"#000000\" font-family=\"sans-serif\" font-size=\"14\" lengthAdjust=\"spacing\" textLength=\"244\" x=\"770\" y=\"73.668\">takePicture :&gt;Detection::takePicture</text><line style=\"stroke:#181818;stroke-width:0.5;\" x1=\"768\" x2=\"1020\" y1=\"81.6211\" y2=\"81.6211\"/></g></a><!--MD5=[09b614a08d8cba4a07c9adeb5e0fee81]\n",
       "class E3--><a href=\"psysml:2852d369-be4f-46fc-906b-328bed00cfc2\" target=\"_top\" title=\"psysml:2852d369-be4f-46fc-906b-328bed00cfc2\" xlink:actuate=\"onRequest\" xlink:href=\"psysml:2852d369-be4f-46fc-906b-328bed00cfc2\" xlink:show=\"new\" xlink:title=\"psysml:2852d369-be4f-46fc-906b-328bed00cfc2\" xlink:type=\"simple\"><g id=\"elem_E3\"><rect fill=\"#FFFFFF\" height=\"48.6211\" id=\"E3\" style=\"stroke:#181818;stroke-width:0.5;\" width=\"65\" x=\"666.5\" y=\"41\"/><text fill=\"#000000\" font-family=\"sans-serif\" font-size=\"12\" font-style=\"italic\" lengthAdjust=\"spacing\" textLength=\"63\" x=\"667.5\" y=\"57.6016\">«part  def»</text><text fill=\"#000000\" font-family=\"sans-serif\" font-size=\"14\" lengthAdjust=\"spacing\" textLength=\"54\" x=\"672\" y=\"73.668\">Sensors</text><line style=\"stroke:#181818;stroke-width:0.5;\" x1=\"667.5\" x2=\"730.5\" y1=\"81.6211\" y2=\"81.6211\"/></g></a><!--MD5=[ebbe1d658d1005bcc118a6aa81145e00]\n",
       "class E4--><a href=\"psysml:73761a57-8fdf-41a3-afaa-7e301e29758a\" target=\"_top\" title=\"psysml:73761a57-8fdf-41a3-afaa-7e301e29758a\" xlink:actuate=\"onRequest\" xlink:href=\"psysml:73761a57-8fdf-41a3-afaa-7e301e29758a\" xlink:show=\"new\" xlink:title=\"psysml:73761a57-8fdf-41a3-afaa-7e301e29758a\" xlink:type=\"simple\"><g id=\"elem_E4\"><rect fill=\"#FFFFFF\" height=\"48.6211\" id=\"E4\" rx=\"10\" ry=\"10\" style=\"stroke:#181818;stroke-width:0.5;\" width=\"101\" x=\"580.5\" y=\"150\"/><text fill=\"#000000\" font-family=\"sans-serif\" font-size=\"12\" font-style=\"italic\" lengthAdjust=\"spacing\" textLength=\"36\" x=\"613\" y=\"166.6016\">«part»</text><text fill=\"#000000\" font-family=\"sans-serif\" font-size=\"14\" lengthAdjust=\"spacing\" textLength=\"87\" x=\"583.5\" y=\"182.668\">sonar: Sonar</text><line style=\"stroke:#181818;stroke-width:0.5;\" x1=\"581.5\" x2=\"680.5\" y1=\"190.6211\" y2=\"190.6211\"/></g></a><!--MD5=[270fce915f116d4de14055a7c1d9a0f3]\n",
       "class E5--><a href=\"psysml:5887fee8-ec7b-42b0-9c66-e5a9f5c2d243\" target=\"_top\" title=\"psysml:5887fee8-ec7b-42b0-9c66-e5a9f5c2d243\" xlink:actuate=\"onRequest\" xlink:href=\"psysml:5887fee8-ec7b-42b0-9c66-e5a9f5c2d243\" xlink:show=\"new\" xlink:title=\"psysml:5887fee8-ec7b-42b0-9c66-e5a9f5c2d243\" xlink:type=\"simple\"><g id=\"elem_E5\"><rect fill=\"#FFFFFF\" height=\"48.6211\" id=\"E5\" rx=\"10\" ry=\"10\" style=\"stroke:#181818;stroke-width:0.5;\" width=\"99\" x=\"716.5\" y=\"150\"/><text fill=\"#000000\" font-family=\"sans-serif\" font-size=\"12\" font-style=\"italic\" lengthAdjust=\"spacing\" textLength=\"36\" x=\"748\" y=\"166.6016\">«part»</text><text fill=\"#000000\" font-family=\"sans-serif\" font-size=\"14\" lengthAdjust=\"spacing\" textLength=\"85\" x=\"719.5\" y=\"182.668\">radar: Radar</text><line style=\"stroke:#181818;stroke-width:0.5;\" x1=\"717.5\" x2=\"814.5\" y1=\"190.6211\" y2=\"190.6211\"/></g></a><!--MD5=[60a26617385b1d2d0262a64233df1f8d]\n",
       "class E6--><a href=\"psysml:fbdb8296-79a6-42d2-bbdf-58aa79042030\" target=\"_top\" title=\"psysml:fbdb8296-79a6-42d2-bbdf-58aa79042030\" xlink:actuate=\"onRequest\" xlink:href=\"psysml:fbdb8296-79a6-42d2-bbdf-58aa79042030\" xlink:show=\"new\" xlink:title=\"psysml:fbdb8296-79a6-42d2-bbdf-58aa79042030\" xlink:type=\"simple\"><g id=\"elem_E6\"><rect fill=\"#FFFFFF\" height=\"48.6211\" id=\"E6\" style=\"stroke:#181818;stroke-width:0.5;\" width=\"65\" x=\"598.5\" y=\"259\"/><text fill=\"#000000\" font-family=\"sans-serif\" font-size=\"12\" font-style=\"italic\" lengthAdjust=\"spacing\" textLength=\"63\" x=\"599.5\" y=\"275.6016\">«part  def»</text><text fill=\"#000000\" font-family=\"sans-serif\" font-size=\"14\" lengthAdjust=\"spacing\" textLength=\"40\" x=\"611\" y=\"291.668\">Sonar</text><line style=\"stroke:#181818;stroke-width:0.5;\" x1=\"599.5\" x2=\"662.5\" y1=\"299.6211\" y2=\"299.6211\"/></g></a><!--MD5=[2156ba9850f5573cc1fc38a6a4b2f02b]\n",
       "class E7--><a href=\"psysml:61b7ba49-8ae2-496b-85fc-7bd52714ee93\" target=\"_top\" title=\"psysml:61b7ba49-8ae2-496b-85fc-7bd52714ee93\" xlink:actuate=\"onRequest\" xlink:href=\"psysml:61b7ba49-8ae2-496b-85fc-7bd52714ee93\" xlink:show=\"new\" xlink:title=\"psysml:61b7ba49-8ae2-496b-85fc-7bd52714ee93\" xlink:type=\"simple\"><g id=\"elem_E7\"><rect fill=\"#FFFFFF\" height=\"48.6211\" id=\"E7\" style=\"stroke:#181818;stroke-width:0.5;\" width=\"65\" x=\"733.5\" y=\"259\"/><text fill=\"#000000\" font-family=\"sans-serif\" font-size=\"12\" font-style=\"italic\" lengthAdjust=\"spacing\" textLength=\"63\" x=\"734.5\" y=\"275.6016\">«part  def»</text><text fill=\"#000000\" font-family=\"sans-serif\" font-size=\"14\" lengthAdjust=\"spacing\" textLength=\"40\" x=\"746\" y=\"291.668\">Radar</text><line style=\"stroke:#181818;stroke-width:0.5;\" x1=\"734.5\" x2=\"797.5\" y1=\"299.6211\" y2=\"299.6211\"/></g></a><!--MD5=[b9389687b975829384b498ac4b7476b2]\n",
       "class E8--><a href=\"psysml:9f05eee2-219f-4b14-8dc3-af76a856a08d\" target=\"_top\" title=\"psysml:9f05eee2-219f-4b14-8dc3-af76a856a08d\" xlink:actuate=\"onRequest\" xlink:href=\"psysml:9f05eee2-219f-4b14-8dc3-af76a856a08d\" xlink:show=\"new\" xlink:title=\"psysml:9f05eee2-219f-4b14-8dc3-af76a856a08d\" xlink:type=\"simple\"><g id=\"elem_E8\"><rect fill=\"#FFFFFF\" height=\"48.6211\" id=\"E8\" style=\"stroke:#181818;stroke-width:0.5;\" width=\"139\" x=\"492.5\" y=\"41\"/><text fill=\"#000000\" font-family=\"sans-serif\" font-size=\"12\" font-style=\"italic\" lengthAdjust=\"spacing\" textLength=\"63\" x=\"530.5\" y=\"57.6016\">«part  def»</text><text fill=\"#000000\" font-family=\"sans-serif\" font-size=\"14\" lengthAdjust=\"spacing\" textLength=\"133\" x=\"495.5\" y=\"73.668\">DataProcessingUnit</text><line style=\"stroke:#181818;stroke-width:0.5;\" x1=\"493.5\" x2=\"630.5\" y1=\"81.6211\" y2=\"81.6211\"/></g></a><!--MD5=[fd4143e9d270a159db93a4ea2a975926]\n",
       "class E9--><a href=\"psysml:d8972fae-f547-42f9-8df7-67a5742b369c\" target=\"_top\" title=\"psysml:d8972fae-f547-42f9-8df7-67a5742b369c\" xlink:actuate=\"onRequest\" xlink:href=\"psysml:d8972fae-f547-42f9-8df7-67a5742b369c\" xlink:show=\"new\" xlink:title=\"psysml:d8972fae-f547-42f9-8df7-67a5742b369c\" xlink:type=\"simple\"><g id=\"elem_E9\"><rect fill=\"#FFFFFF\" height=\"48.6211\" id=\"E9\" style=\"stroke:#181818;stroke-width:0.5;\" width=\"163\" x=\"294.5\" y=\"41\"/><text fill=\"#000000\" font-family=\"sans-serif\" font-size=\"12\" font-style=\"italic\" lengthAdjust=\"spacing\" textLength=\"63\" x=\"344.5\" y=\"57.6016\">«part  def»</text><text fill=\"#000000\" font-family=\"sans-serif\" font-size=\"14\" lengthAdjust=\"spacing\" textLength=\"157\" x=\"297.5\" y=\"73.668\">CommunicationSystem</text><line style=\"stroke:#181818;stroke-width:0.5;\" x1=\"295.5\" x2=\"456.5\" y1=\"81.6211\" y2=\"81.6211\"/></g></a><!--MD5=[96f4274e9e20536e775497830990834d]\n",
       "class E10--><a href=\"psysml:1c98c6c7-057f-4a27-bde2-482df7449184\" target=\"_top\" title=\"psysml:1c98c6c7-057f-4a27-bde2-482df7449184\" xlink:actuate=\"onRequest\" xlink:href=\"psysml:1c98c6c7-057f-4a27-bde2-482df7449184\" xlink:show=\"new\" xlink:title=\"psysml:1c98c6c7-057f-4a27-bde2-482df7449184\" xlink:type=\"simple\"><g id=\"elem_E10\"><rect fill=\"#FFFFFF\" height=\"48.6211\" id=\"E10\" style=\"stroke:#181818;stroke-width:0.5;\" width=\"94\" x=\"165\" y=\"41\"/><text fill=\"#000000\" font-family=\"sans-serif\" font-size=\"12\" font-style=\"italic\" lengthAdjust=\"spacing\" textLength=\"63\" x=\"180.5\" y=\"57.6016\">«part  def»</text><text fill=\"#000000\" font-family=\"sans-serif\" font-size=\"14\" lengthAdjust=\"spacing\" textLength=\"88\" x=\"168\" y=\"73.668\">PowerSupply</text><line style=\"stroke:#181818;stroke-width:0.5;\" x1=\"166\" x2=\"258\" y1=\"81.6211\" y2=\"81.6211\"/></g></a><!--MD5=[1dd1bfd58a279cf63c5f349dbc8fc6a1]\n",
       "class E11--><a href=\"psysml:ff916535-0f4d-4776-846d-f7a544c8dc6e\" target=\"_top\" title=\"psysml:ff916535-0f4d-4776-846d-f7a544c8dc6e\" xlink:actuate=\"onRequest\" xlink:href=\"psysml:ff916535-0f4d-4776-846d-f7a544c8dc6e\" xlink:show=\"new\" xlink:title=\"psysml:ff916535-0f4d-4776-846d-f7a544c8dc6e\" xlink:type=\"simple\"><g id=\"elem_E11\"><rect fill=\"#FFFFFF\" height=\"48.6211\" id=\"E11\" style=\"stroke:#181818;stroke-width:0.5;\" width=\"97\" x=\"32.5\" y=\"41\"/><text fill=\"#000000\" font-family=\"sans-serif\" font-size=\"12\" font-style=\"italic\" lengthAdjust=\"spacing\" textLength=\"63\" x=\"49.5\" y=\"57.6016\">«part  def»</text><text fill=\"#000000\" font-family=\"sans-serif\" font-size=\"14\" lengthAdjust=\"spacing\" textLength=\"91\" x=\"35.5\" y=\"73.668\">UserInterface</text><line style=\"stroke:#181818;stroke-width:0.5;\" x1=\"33.5\" x2=\"128.5\" y1=\"81.6211\" y2=\"81.6211\"/></g></a><!--MD5=[4672eba38e49728da53d11aeb285b987]\n",
       "reverse link E3 to E4--><g id=\"link_E3_E4\"><a href=\"psysml:61db20ff-dfaf-4918-a1c6-4edb6be697cf\" target=\"_top\" title=\"psysml:61db20ff-dfaf-4918-a1c6-4edb6be697cf\" xlink:actuate=\"onRequest\" xlink:href=\"psysml:61db20ff-dfaf-4918-a1c6-4edb6be697cf\" xlink:show=\"new\" xlink:title=\"psysml:61db20ff-dfaf-4918-a1c6-4edb6be697cf\" xlink:type=\"simple\"><path d=\"M676.9,101.27 C666.81,117.16 655.11,135.56 646.05,149.82 \" fill=\"none\" id=\"E3-backto-E4\" style=\"stroke:#181818;stroke-width:1.0;\"/><polygon fill=\"#181818\" points=\"683.91,90.25,677.3161,93.1689,677.4743,100.3783,684.0683,97.4594,683.91,90.25\" style=\"stroke:#181818;stroke-width:1.0;\"/><text fill=\"#000000\" font-family=\"sans-serif\" font-size=\"13\" lengthAdjust=\"spacing\" textLength=\"8\" x=\"640.8816\" y=\"139.2306\">1</text></a></g><!--MD5=[191cde3d490a3f6d7bb551fe3ddca469]\n",
       "reverse link E3 to E5--><g id=\"link_E3_E5\"><a href=\"psysml:aa99d0d2-d1dd-4e66-b7d8-da94a98ce361\" target=\"_top\" title=\"psysml:aa99d0d2-d1dd-4e66-b7d8-da94a98ce361\" xlink:actuate=\"onRequest\" xlink:href=\"psysml:aa99d0d2-d1dd-4e66-b7d8-da94a98ce361\" xlink:show=\"new\" xlink:title=\"psysml:aa99d0d2-d1dd-4e66-b7d8-da94a98ce361\" xlink:type=\"simple\"><path d=\"M720.77,101.27 C730.72,117.16 742.25,135.56 751.17,149.82 \" fill=\"none\" id=\"E3-backto-E5\" style=\"stroke:#181818;stroke-width:1.0;\"/><polygon fill=\"#181818\" points=\"713.87,90.25,713.6614,97.4581,720.2347,100.423,720.4434,93.2149,713.87,90.25\" style=\"stroke:#181818;stroke-width:1.0;\"/><text fill=\"#000000\" font-family=\"sans-serif\" font-size=\"13\" lengthAdjust=\"spacing\" textLength=\"8\" x=\"738.3448\" y=\"139.2306\">1</text></a></g><!--MD5=[79568f1e445c3877b6a54524624ccc7d]\n",
       "link E4 to E6--><g id=\"link_E4_E6\"><a href=\"psysml:22a283ec-2382-401b-b435-c985d22d7ab8\" target=\"_top\" title=\"psysml:22a283ec-2382-401b-b435-c985d22d7ab8\" xlink:actuate=\"onRequest\" xlink:href=\"psysml:22a283ec-2382-401b-b435-c985d22d7ab8\" xlink:show=\"new\" xlink:title=\"psysml:22a283ec-2382-401b-b435-c985d22d7ab8\" xlink:type=\"simple\"><path d=\"M631,199.25 C631,210.88 631,225.27 631,238.8 \" fill=\"none\" id=\"E4-to-E6\" style=\"stroke:#181818;stroke-width:1.0;\"/><polygon fill=\"#FFFFFF\" points=\"631,258.82,624,239.82,638,239.82,631,258.82\" style=\"stroke:#181818;stroke-width:1.0;\"/><ellipse cx=\"626\" cy=\"234.12\" fill=\"#181818\" rx=\"2\" ry=\"2\" style=\"stroke:#181818;stroke-width:1.0;\"/><ellipse cx=\"636\" cy=\"234.12\" fill=\"#181818\" rx=\"2\" ry=\"2\" style=\"stroke:#181818;stroke-width:1.0;\"/></a></g><!--MD5=[3a9b96bfbf6b6ad89c494e81751bda47]\n",
       "link E5 to E7--><g id=\"link_E5_E7\"><a href=\"psysml:95199eb9-11b6-4b80-b2d1-7d607038fc7c\" target=\"_top\" title=\"psysml:95199eb9-11b6-4b80-b2d1-7d607038fc7c\" xlink:actuate=\"onRequest\" xlink:href=\"psysml:95199eb9-11b6-4b80-b2d1-7d607038fc7c\" xlink:show=\"new\" xlink:title=\"psysml:95199eb9-11b6-4b80-b2d1-7d607038fc7c\" xlink:type=\"simple\"><path d=\"M766,199.25 C766,210.88 766,225.27 766,238.8 \" fill=\"none\" id=\"E5-to-E7\" style=\"stroke:#181818;stroke-width:1.0;\"/><polygon fill=\"#FFFFFF\" points=\"766,258.82,759,239.82,773,239.82,766,258.82\" style=\"stroke:#181818;stroke-width:1.0;\"/><ellipse cx=\"761\" cy=\"234.12\" fill=\"#181818\" rx=\"2\" ry=\"2\" style=\"stroke:#181818;stroke-width:1.0;\"/><ellipse cx=\"771\" cy=\"234.12\" fill=\"#181818\" rx=\"2\" ry=\"2\" style=\"stroke:#181818;stroke-width:1.0;\"/></a></g><!--MD5=[2e7d57c3e3bccc51172ee08f3be93f40]\n",
       "@startuml\r\n",
       "skin sysmlbw\r\n",
       "skinparam monochrome true\r\n",
       "skinparam wrapWidth 300\r\n",
       "hide circle\r\n",
       "\r\n",
       "package \"SubmarineDetectionSystem\" as E1  [[psysml:88e5825f-38fc-4ab5-84fb-a7b927991451 ]]  {\r\n",
       "comp usage \"takePicture :>Detection::takePicture \" as E2  << perform action>> [[psysml:e3acf224-f418-43b8-8a69-886145b0bd03 ]] {\r\n",
       "}\r\n",
       "comp def \"Sensors\" as E3  <<(T,blue) part  def>> [[psysml:2852d369-be4f-46fc-906b-328bed00cfc2 ]] {\r\n",
       "}\r\n",
       "comp usage \"sonar: Sonar  \" as E4  <<(T,blue) part>> [[psysml:73761a57-8fdf-41a3-afaa-7e301e29758a ]] {\r\n",
       "}\r\n",
       "comp usage \"radar: Radar  \" as E5  <<(T,blue) part>> [[psysml:5887fee8-ec7b-42b0-9c66-e5a9f5c2d243 ]] {\r\n",
       "}\r\n",
       "comp def \"Sonar\" as E6  <<(T,blue) part  def>> [[psysml:fbdb8296-79a6-42d2-bbdf-58aa79042030 ]] {\r\n",
       "}\r\n",
       "comp def \"Radar\" as E7  <<(T,blue) part  def>> [[psysml:61b7ba49-8ae2-496b-85fc-7bd52714ee93 ]] {\r\n",
       "}\r\n",
       "comp def \"DataProcessingUnit\" as E8  <<(T,blue) part  def>> [[psysml:9f05eee2-219f-4b14-8dc3-af76a856a08d ]] {\r\n",
       "}\r\n",
       "comp def \"CommunicationSystem\" as E9  <<(T,blue) part  def>> [[psysml:d8972fae-f547-42f9-8df7-67a5742b369c ]] {\r\n",
       "}\r\n",
       "comp def \"PowerSupply\" as E10  <<(T,blue) part  def>> [[psysml:1c98c6c7-057f-4a27-bde2-482df7449184 ]] {\r\n",
       "}\r\n",
       "comp def \"UserInterface\" as E11  <<(T,blue) part  def>> [[psysml:ff916535-0f4d-4776-846d-f7a544c8dc6e ]] {\r\n",
       "}\r\n",
       "}\r\n",
       "E3 *- - \"1\"E4 [[psysml:61db20ff-dfaf-4918-a1c6-4edb6be697cf ]] \r\n",
       "E3 *- - \"1\"E5 [[psysml:aa99d0d2-d1dd-4e66-b7d8-da94a98ce361 ]] \r\n",
       "E4 - -:|> E6 [[psysml:22a283ec-2382-401b-b435-c985d22d7ab8 ]] \r\n",
       "E5 - -:|> E7 [[psysml:95199eb9-11b6-4b80-b2d1-7d607038fc7c ]] \r\n",
       "@enduml\r\n",
       "\n",
       "PlantUML version 1.2022.7(Mon Aug 22 13:01:30 EDT 2022)\n",
       "(EPL source distribution)\n",
       "Java Runtime: OpenJDK Runtime Environment\n",
       "JVM: OpenJDK 64-Bit Server VM\n",
       "Default Encoding: UTF-8\n",
       "Language: en\n",
       "Country: US\n",
       "--></g></svg>"
      ]
     },
     "execution_count": 4,
     "metadata": {},
     "output_type": "execute_result"
    }
   ],
   "source": [
    "%viz --view=Tree SubmarineDetectionSystem"
   ]
  },
  {
   "cell_type": "code",
   "execution_count": null,
   "id": "5e0b07c5",
   "metadata": {},
   "outputs": [],
   "source": []
  }
 ],
 "metadata": {
  "kernelspec": {
   "display_name": "SysML",
   "language": "sysml",
   "name": "sysml"
  },
  "language_info": {
   "codemirror_mode": "sysml",
   "file_extension": ".sysml",
   "mimetype": "text/x-sysml",
   "name": "SysML",
   "pygments_lexer": "java",
   "version": "1.0.0"
  }
 },
 "nbformat": 4,
 "nbformat_minor": 5
}
