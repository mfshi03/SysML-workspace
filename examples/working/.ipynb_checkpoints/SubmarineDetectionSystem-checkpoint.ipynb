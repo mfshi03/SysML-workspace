{
 "cells": [
  {
   "cell_type": "code",
   "execution_count": 3,
   "id": "a540eed7",
   "metadata": {},
   "outputs": [
    {
     "data": {
      "text/plain": [
       "Package DetectionProcesses (10544da7-09d2-48cf-b061-4b5ed9640cce)\n"
      ]
     },
     "execution_count": 3,
     "metadata": {},
     "output_type": "execute_result"
    }
   ],
   "source": [
    "package DetectionProcesses {\n",
    "    action def Detect { out detectionSignal; }\n",
    "    action def Process { in signal; out processedData; }\n",
    "    action def Transmit { in data; }\n",
    "\n",
    "    action detectSubmarine {\n",
    "        action useSonar: Detect[1];\n",
    "        action useRadar: Detect[1];\n",
    "        flow useSonar.detectionSignal to processData.signal;\n",
    "        flow useRadar.detectionSignal to processData.signal;\n",
    "        action processData: Process[1];\n",
    "        flow processData.processedData to transmitData.data;\n",
    "        action transmitData: Transmit[1];\n",
    "    }\n",
    "    action processData {\n",
    "        action analyze: Process[1];\n",
    "    }\n",
    "    // Additional actions and flows can be defined here\n",
    "}"
   ]
  },
  {
   "cell_type": "code",
   "execution_count": 4,
   "id": "9d18fbb2",
   "metadata": {},
   "outputs": [
    {
     "data": {
      "text/plain": [
       "Package SubmarineDetectionSystem (aa41c209-596f-4d07-b130-a57391c55d83)\n"
      ]
     },
     "execution_count": 4,
     "metadata": {},
     "output_type": "execute_result"
    }
   ],
   "source": [
    "package SubmarineDetectionSystem {\n",
    "    import DetectionProcesses::*;\n",
    "\n",
    "    part def Sensors {\n",
    "        perform action detectSubmarine[*] :> DetectionProcesses::detectSubmarine;\n",
    "\n",
    "        part sonarSubsystem {\n",
    "            perform detectSubmarine.useSonar;\n",
    "        }\n",
    "\n",
    "        part radarSubsystem {\n",
    "            perform detectSubmarine.useRadar;\n",
    "        }\n",
    "    }\n",
    "\n",
    "    part def DataProcessingUnit {\n",
    "        perform action processData[*] :> DetectionProcesses::processData;\n",
    "\n",
    "        part analysisSubsystem {\n",
    "            perform processData.analyze;\n",
    "        }\n",
    "\n",
    "    }\n",
    "\n",
    "    part def CommunicationSystem {\n",
    "        perform action transmitData[*] :> DetectionProcesses::processData;\n",
    "    }\n",
    "\n",
    "    part def PowerSupply {\n",
    "        // Power supply specific actions and interactions\n",
    "    }\n",
    "\n",
    "    part def UserInterface {\n",
    "        // User interface specific actions and interactions\n",
    "    }\n",
    "\n",
    "}\n"
   ]
  },
  {
   "cell_type": "code",
   "execution_count": 5,
   "id": "d3e68194",
   "metadata": {},
   "outputs": [
    {
     "data": {
      "image/svg+xml": [
       "<?xml version=\"1.0\" encoding=\"UTF-8\" standalone=\"no\"?><svg xmlns=\"http://www.w3.org/2000/svg\" xmlns:xlink=\"http://www.w3.org/1999/xlink\" contentStyleType=\"text/css\" height=\"440px\" preserveAspectRatio=\"none\" style=\"width:1155px;height:440px;background:#FFFFFF;\" version=\"1.1\" viewBox=\"0 0 1155 440\" width=\"1155px\" zoomAndPan=\"magnify\"><defs/><g><!--MD5=[fbc87193dbaf4d95561dea2c320d4a47]\n",
       "cluster E1--><g id=\"cluster_E1\"><a href=\"psysml:aa41c209-596f-4d07-b130-a57391c55d83\" target=\"_top\" title=\"psysml:aa41c209-596f-4d07-b130-a57391c55d83\" xlink:actuate=\"onRequest\" xlink:href=\"psysml:aa41c209-596f-4d07-b130-a57391c55d83\" xlink:show=\"new\" xlink:title=\"psysml:aa41c209-596f-4d07-b130-a57391c55d83\" xlink:type=\"simple\"><polygon fill=\"none\" points=\"16,6,219,6,226,28.4883,1138,28.4883,1138,433,16,433,16,6\" style=\"stroke:#000000;stroke-width:1.5;\"/><line style=\"stroke:#000000;stroke-width:1.5;\" x1=\"16\" x2=\"226\" y1=\"28.4883\" y2=\"28.4883\"/><text fill=\"#000000\" font-family=\"sans-serif\" font-size=\"14\" font-weight=\"bold\" lengthAdjust=\"spacing\" textLength=\"197\" x=\"20\" y=\"21.5352\">SubmarineDetectionSystem</text></a></g><!--MD5=[b4997ac47864f28c2f74865a473b2911]\n",
       "class E2--><a href=\"psysml:819a9308-4a04-4151-aabd-c501e864c96c\" target=\"_top\" title=\"psysml:819a9308-4a04-4151-aabd-c501e864c96c\" xlink:actuate=\"onRequest\" xlink:href=\"psysml:819a9308-4a04-4151-aabd-c501e864c96c\" xlink:show=\"new\" xlink:title=\"psysml:819a9308-4a04-4151-aabd-c501e864c96c\" xlink:type=\"simple\"><g id=\"elem_E2\"><rect fill=\"#FFFFFF\" height=\"48.6211\" id=\"E2\" style=\"stroke:#181818;stroke-width:0.5;\" width=\"65\" x=\"779.5\" y=\"41\"/><text fill=\"#000000\" font-family=\"sans-serif\" font-size=\"12\" font-style=\"italic\" lengthAdjust=\"spacing\" textLength=\"63\" x=\"780.5\" y=\"57.6016\">«part  def»</text><text fill=\"#000000\" font-family=\"sans-serif\" font-size=\"14\" lengthAdjust=\"spacing\" textLength=\"54\" x=\"785\" y=\"73.668\">Sensors</text><line style=\"stroke:#181818;stroke-width:0.5;\" x1=\"780.5\" x2=\"843.5\" y1=\"81.6211\" y2=\"81.6211\"/></g></a><!--MD5=[09b614a08d8cba4a07c9adeb5e0fee81]\n",
       "class E3--><a href=\"psysml:93c48306-cf41-4413-b1f4-fa16a144933d\" target=\"_top\" title=\"psysml:93c48306-cf41-4413-b1f4-fa16a144933d\" xlink:actuate=\"onRequest\" xlink:href=\"psysml:93c48306-cf41-4413-b1f4-fa16a144933d\" xlink:show=\"new\" xlink:title=\"psysml:93c48306-cf41-4413-b1f4-fa16a144933d\" xlink:type=\"simple\"><g id=\"elem_E3\"><rect fill=\"#FFFFFF\" height=\"48.6211\" id=\"E3\" rx=\"10\" ry=\"10\" style=\"stroke:#181818;stroke-width:0.5;\" width=\"401\" x=\"611.5\" y=\"259\"/><text fill=\"#000000\" font-family=\"sans-serif\" font-size=\"12\" font-style=\"italic\" lengthAdjust=\"spacing\" textLength=\"97\" x=\"763.5\" y=\"275.6016\">«perform action»</text><text fill=\"#000000\" font-family=\"sans-serif\" font-size=\"14\" lengthAdjust=\"spacing\" textLength=\"391\" x=\"614.5\" y=\"291.668\">detectSubmarine :&gt;DetectionProcesses::detectSubmarine</text><line style=\"stroke:#181818;stroke-width:0.5;\" x1=\"612.5\" x2=\"1011.5\" y1=\"299.6211\" y2=\"299.6211\"/></g></a><!--MD5=[ebbe1d658d1005bcc118a6aa81145e00]\n",
       "class E4--><a href=\"psysml:36e63022-f5d3-4b6a-8ff7-da980a38f9fc\" target=\"_top\" title=\"psysml:36e63022-f5d3-4b6a-8ff7-da980a38f9fc\" xlink:actuate=\"onRequest\" xlink:href=\"psysml:36e63022-f5d3-4b6a-8ff7-da980a38f9fc\" xlink:show=\"new\" xlink:title=\"psysml:36e63022-f5d3-4b6a-8ff7-da980a38f9fc\" xlink:type=\"simple\"><g id=\"elem_E4\"><rect fill=\"#FFFFFF\" height=\"48.6211\" id=\"E4\" rx=\"10\" ry=\"10\" style=\"stroke:#181818;stroke-width:0.5;\" width=\"138\" x=\"863\" y=\"368\"/><text fill=\"#000000\" font-family=\"sans-serif\" font-size=\"12\" font-style=\"italic\" lengthAdjust=\"spacing\" textLength=\"46\" x=\"909\" y=\"384.6016\">«action»</text><text fill=\"#000000\" font-family=\"sans-serif\" font-size=\"14\" lengthAdjust=\"spacing\" textLength=\"124\" x=\"866\" y=\"400.668\">^useRadar: Detect</text><line style=\"stroke:#181818;stroke-width:0.5;\" x1=\"864\" x2=\"1000\" y1=\"408.6211\" y2=\"408.6211\"/></g></a><!--MD5=[270fce915f116d4de14055a7c1d9a0f3]\n",
       "class E5--><a href=\"psysml:5ec10446-0826-4dfc-9e6e-7d165af81fdd\" target=\"_top\" title=\"psysml:5ec10446-0826-4dfc-9e6e-7d165af81fdd\" xlink:actuate=\"onRequest\" xlink:href=\"psysml:5ec10446-0826-4dfc-9e6e-7d165af81fdd\" xlink:show=\"new\" xlink:title=\"psysml:5ec10446-0826-4dfc-9e6e-7d165af81fdd\" xlink:type=\"simple\"><g id=\"elem_E5\"><rect fill=\"#FFFFFF\" height=\"48.6211\" id=\"E5\" rx=\"10\" ry=\"10\" style=\"stroke:#181818;stroke-width:0.5;\" width=\"138\" x=\"520\" y=\"368\"/><text fill=\"#000000\" font-family=\"sans-serif\" font-size=\"12\" font-style=\"italic\" lengthAdjust=\"spacing\" textLength=\"46\" x=\"566\" y=\"384.6016\">«action»</text><text fill=\"#000000\" font-family=\"sans-serif\" font-size=\"14\" lengthAdjust=\"spacing\" textLength=\"124\" x=\"523\" y=\"400.668\">^useSonar: Detect</text><line style=\"stroke:#181818;stroke-width:0.5;\" x1=\"521\" x2=\"657\" y1=\"408.6211\" y2=\"408.6211\"/></g></a><!--MD5=[60a26617385b1d2d0262a64233df1f8d]\n",
       "class E6--><a href=\"psysml:11ec33cc-2216-4a1b-9b15-4fdc2b726023\" target=\"_top\" title=\"psysml:11ec33cc-2216-4a1b-9b15-4fdc2b726023\" xlink:actuate=\"onRequest\" xlink:href=\"psysml:11ec33cc-2216-4a1b-9b15-4fdc2b726023\" xlink:show=\"new\" xlink:title=\"psysml:11ec33cc-2216-4a1b-9b15-4fdc2b726023\" xlink:type=\"simple\"><g id=\"elem_E6\"><rect fill=\"#FFFFFF\" height=\"48.6211\" id=\"E6\" rx=\"10\" ry=\"10\" style=\"stroke:#181818;stroke-width:0.5;\" width=\"126\" x=\"636\" y=\"150\"/><text fill=\"#000000\" font-family=\"sans-serif\" font-size=\"12\" font-style=\"italic\" lengthAdjust=\"spacing\" textLength=\"36\" x=\"681\" y=\"166.6016\">«part»</text><text fill=\"#000000\" font-family=\"sans-serif\" font-size=\"14\" lengthAdjust=\"spacing\" textLength=\"112\" x=\"639\" y=\"182.668\">sonarSubsystem</text><line style=\"stroke:#181818;stroke-width:0.5;\" x1=\"637\" x2=\"761\" y1=\"190.6211\" y2=\"190.6211\"/></g></a><!--MD5=[2156ba9850f5573cc1fc38a6a4b2f02b]\n",
       "class E7--><a href=\"psysml:9ae923ed-cc52-4378-b7e1-4a36c30f05fd\" target=\"_top\" title=\"psysml:9ae923ed-cc52-4378-b7e1-4a36c30f05fd\" xlink:actuate=\"onRequest\" xlink:href=\"psysml:9ae923ed-cc52-4378-b7e1-4a36c30f05fd\" xlink:show=\"new\" xlink:title=\"psysml:9ae923ed-cc52-4378-b7e1-4a36c30f05fd\" xlink:type=\"simple\"><g id=\"elem_E7\"><rect fill=\"#FFFFFF\" height=\"48.6211\" id=\"E7\" rx=\"10\" ry=\"10\" style=\"stroke:#181818;stroke-width:0.5;\" width=\"74\" x=\"502\" y=\"259\"/><text fill=\"#000000\" font-family=\"sans-serif\" font-size=\"12\" font-style=\"italic\" lengthAdjust=\"spacing\" textLength=\"59\" x=\"509.5\" y=\"275.6016\">«perform»</text><text fill=\"#000000\" font-family=\"sans-serif\" font-size=\"14\" lengthAdjust=\"spacing\" textLength=\"64\" x=\"505\" y=\"291.668\">useSonar</text><line style=\"stroke:#181818;stroke-width:0.5;\" x1=\"503\" x2=\"575\" y1=\"299.6211\" y2=\"299.6211\"/></g></a><!--MD5=[b9389687b975829384b498ac4b7476b2]\n",
       "class E8--><a href=\"psysml:4fb36d62-8310-4da1-82c3-bd938725ba06\" target=\"_top\" title=\"psysml:4fb36d62-8310-4da1-82c3-bd938725ba06\" xlink:actuate=\"onRequest\" xlink:href=\"psysml:4fb36d62-8310-4da1-82c3-bd938725ba06\" xlink:show=\"new\" xlink:title=\"psysml:4fb36d62-8310-4da1-82c3-bd938725ba06\" xlink:type=\"simple\"><g id=\"elem_E8\"><rect fill=\"#FFFFFF\" height=\"48.6211\" id=\"E8\" rx=\"10\" ry=\"10\" style=\"stroke:#181818;stroke-width:0.5;\" width=\"124\" x=\"923\" y=\"150\"/><text fill=\"#000000\" font-family=\"sans-serif\" font-size=\"12\" font-style=\"italic\" lengthAdjust=\"spacing\" textLength=\"36\" x=\"967\" y=\"166.6016\">«part»</text><text fill=\"#000000\" font-family=\"sans-serif\" font-size=\"14\" lengthAdjust=\"spacing\" textLength=\"110\" x=\"926\" y=\"182.668\">radarSubsystem</text><line style=\"stroke:#181818;stroke-width:0.5;\" x1=\"924\" x2=\"1046\" y1=\"190.6211\" y2=\"190.6211\"/></g></a><!--MD5=[fd4143e9d270a159db93a4ea2a975926]\n",
       "class E9--><a href=\"psysml:3bb69fc7-8284-46a9-afee-da9030b44008\" target=\"_top\" title=\"psysml:3bb69fc7-8284-46a9-afee-da9030b44008\" xlink:actuate=\"onRequest\" xlink:href=\"psysml:3bb69fc7-8284-46a9-afee-da9030b44008\" xlink:show=\"new\" xlink:title=\"psysml:3bb69fc7-8284-46a9-afee-da9030b44008\" xlink:type=\"simple\"><g id=\"elem_E9\"><rect fill=\"#FFFFFF\" height=\"48.6211\" id=\"E9\" rx=\"10\" ry=\"10\" style=\"stroke:#181818;stroke-width:0.5;\" width=\"74\" x=\"1048\" y=\"259\"/><text fill=\"#000000\" font-family=\"sans-serif\" font-size=\"12\" font-style=\"italic\" lengthAdjust=\"spacing\" textLength=\"59\" x=\"1055.5\" y=\"275.6016\">«perform»</text><text fill=\"#000000\" font-family=\"sans-serif\" font-size=\"14\" lengthAdjust=\"spacing\" textLength=\"64\" x=\"1051\" y=\"291.668\">useRadar</text><line style=\"stroke:#181818;stroke-width:0.5;\" x1=\"1049\" x2=\"1121\" y1=\"299.6211\" y2=\"299.6211\"/></g></a><!--MD5=[96f4274e9e20536e775497830990834d]\n",
       "class E10--><a href=\"psysml:71eb91ec-534d-4ac3-862a-c3233948812f\" target=\"_top\" title=\"psysml:71eb91ec-534d-4ac3-862a-c3233948812f\" xlink:actuate=\"onRequest\" xlink:href=\"psysml:71eb91ec-534d-4ac3-862a-c3233948812f\" xlink:show=\"new\" xlink:title=\"psysml:71eb91ec-534d-4ac3-862a-c3233948812f\" xlink:type=\"simple\"><g id=\"elem_E10\"><rect fill=\"#FFFFFF\" height=\"48.6211\" id=\"E10\" style=\"stroke:#181818;stroke-width:0.5;\" width=\"139\" x=\"504.5\" y=\"41\"/><text fill=\"#000000\" font-family=\"sans-serif\" font-size=\"12\" font-style=\"italic\" lengthAdjust=\"spacing\" textLength=\"63\" x=\"542.5\" y=\"57.6016\">«part  def»</text><text fill=\"#000000\" font-family=\"sans-serif\" font-size=\"14\" lengthAdjust=\"spacing\" textLength=\"133\" x=\"507.5\" y=\"73.668\">DataProcessingUnit</text><line style=\"stroke:#181818;stroke-width:0.5;\" x1=\"505.5\" x2=\"642.5\" y1=\"81.6211\" y2=\"81.6211\"/></g></a><!--MD5=[1dd1bfd58a279cf63c5f349dbc8fc6a1]\n",
       "class E11--><a href=\"psysml:09790bf9-219e-41a3-9048-3997c50644cc\" target=\"_top\" title=\"psysml:09790bf9-219e-41a3-9048-3997c50644cc\" xlink:actuate=\"onRequest\" xlink:href=\"psysml:09790bf9-219e-41a3-9048-3997c50644cc\" xlink:show=\"new\" xlink:title=\"psysml:09790bf9-219e-41a3-9048-3997c50644cc\" xlink:type=\"simple\"><g id=\"elem_E11\"><rect fill=\"#FFFFFF\" height=\"48.6211\" id=\"E11\" rx=\"10\" ry=\"10\" style=\"stroke:#181818;stroke-width:0.5;\" width=\"337\" x=\"129.5\" y=\"259\"/><text fill=\"#000000\" font-family=\"sans-serif\" font-size=\"12\" font-style=\"italic\" lengthAdjust=\"spacing\" textLength=\"97\" x=\"249.5\" y=\"275.6016\">«perform action»</text><text fill=\"#000000\" font-family=\"sans-serif\" font-size=\"14\" lengthAdjust=\"spacing\" textLength=\"327\" x=\"132.5\" y=\"291.668\">processData :&gt;DetectionProcesses::processData</text><line style=\"stroke:#181818;stroke-width:0.5;\" x1=\"130.5\" x2=\"465.5\" y1=\"299.6211\" y2=\"299.6211\"/></g></a><!--MD5=[49a0ec8f00dab7302a31f22d0f0fe584]\n",
       "class E12--><a href=\"psysml:eddd53e0-7de2-41fe-9339-2e15ad831edd\" target=\"_top\" title=\"psysml:eddd53e0-7de2-41fe-9339-2e15ad831edd\" xlink:actuate=\"onRequest\" xlink:href=\"psysml:eddd53e0-7de2-41fe-9339-2e15ad831edd\" xlink:show=\"new\" xlink:title=\"psysml:eddd53e0-7de2-41fe-9339-2e15ad831edd\" xlink:type=\"simple\"><g id=\"elem_E12\"><rect fill=\"#FFFFFF\" height=\"48.6211\" id=\"E12\" rx=\"10\" ry=\"10\" style=\"stroke:#181818;stroke-width:0.5;\" width=\"135\" x=\"131.5\" y=\"368\"/><text fill=\"#000000\" font-family=\"sans-serif\" font-size=\"12\" font-style=\"italic\" lengthAdjust=\"spacing\" textLength=\"46\" x=\"176\" y=\"384.6016\">«action»</text><text fill=\"#000000\" font-family=\"sans-serif\" font-size=\"14\" lengthAdjust=\"spacing\" textLength=\"121\" x=\"134.5\" y=\"400.668\">^analyze: Process</text><line style=\"stroke:#181818;stroke-width:0.5;\" x1=\"132.5\" x2=\"265.5\" y1=\"408.6211\" y2=\"408.6211\"/></g></a><!--MD5=[ee3c913d1a06f366521f9ef512b67efe]\n",
       "class E13--><a href=\"psysml:359e0c98-e8c6-4809-a4a3-0733613a9a6b\" target=\"_top\" title=\"psysml:359e0c98-e8c6-4809-a4a3-0733613a9a6b\" xlink:actuate=\"onRequest\" xlink:href=\"psysml:359e0c98-e8c6-4809-a4a3-0733613a9a6b\" xlink:show=\"new\" xlink:title=\"psysml:359e0c98-e8c6-4809-a4a3-0733613a9a6b\" xlink:type=\"simple\"><g id=\"elem_E13\"><rect fill=\"#FFFFFF\" height=\"48.6211\" id=\"E13\" rx=\"10\" ry=\"10\" style=\"stroke:#181818;stroke-width:0.5;\" width=\"141\" x=\"408.5\" y=\"150\"/><text fill=\"#000000\" font-family=\"sans-serif\" font-size=\"12\" font-style=\"italic\" lengthAdjust=\"spacing\" textLength=\"36\" x=\"461\" y=\"166.6016\">«part»</text><text fill=\"#000000\" font-family=\"sans-serif\" font-size=\"14\" lengthAdjust=\"spacing\" textLength=\"127\" x=\"411.5\" y=\"182.668\">analysisSubsystem</text><line style=\"stroke:#181818;stroke-width:0.5;\" x1=\"409.5\" x2=\"548.5\" y1=\"190.6211\" y2=\"190.6211\"/></g></a><!--MD5=[bee11217b2f71d958a27249dc326068c]\n",
       "class E14--><a href=\"psysml:6ce21dbd-cc66-45f8-8598-a81c03769cb5\" target=\"_top\" title=\"psysml:6ce21dbd-cc66-45f8-8598-a81c03769cb5\" xlink:actuate=\"onRequest\" xlink:href=\"psysml:6ce21dbd-cc66-45f8-8598-a81c03769cb5\" xlink:show=\"new\" xlink:title=\"psysml:6ce21dbd-cc66-45f8-8598-a81c03769cb5\" xlink:type=\"simple\"><g id=\"elem_E14\"><rect fill=\"#FFFFFF\" height=\"48.6211\" id=\"E14\" rx=\"10\" ry=\"10\" style=\"stroke:#181818;stroke-width:0.5;\" width=\"62\" x=\"32\" y=\"259\"/><text fill=\"#000000\" font-family=\"sans-serif\" font-size=\"12\" font-style=\"italic\" lengthAdjust=\"spacing\" textLength=\"59\" x=\"33.5\" y=\"275.6016\">«perform»</text><text fill=\"#000000\" font-family=\"sans-serif\" font-size=\"14\" lengthAdjust=\"spacing\" textLength=\"52\" x=\"35\" y=\"291.668\">analyze</text><line style=\"stroke:#181818;stroke-width:0.5;\" x1=\"33\" x2=\"93\" y1=\"299.6211\" y2=\"299.6211\"/></g></a><!--MD5=[0c48fb7552dae8cbbef69381101a84c8]\n",
       "class E15--><a href=\"psysml:4f40e140-c1eb-4a7a-9043-f9bf3949b64f\" target=\"_top\" title=\"psysml:4f40e140-c1eb-4a7a-9043-f9bf3949b64f\" xlink:actuate=\"onRequest\" xlink:href=\"psysml:4f40e140-c1eb-4a7a-9043-f9bf3949b64f\" xlink:show=\"new\" xlink:title=\"psysml:4f40e140-c1eb-4a7a-9043-f9bf3949b64f\" xlink:type=\"simple\"><g id=\"elem_E15\"><rect fill=\"#FFFFFF\" height=\"48.6211\" id=\"E15\" style=\"stroke:#181818;stroke-width:0.5;\" width=\"163\" x=\"294.5\" y=\"41\"/><text fill=\"#000000\" font-family=\"sans-serif\" font-size=\"12\" font-style=\"italic\" lengthAdjust=\"spacing\" textLength=\"63\" x=\"344.5\" y=\"57.6016\">«part  def»</text><text fill=\"#000000\" font-family=\"sans-serif\" font-size=\"14\" lengthAdjust=\"spacing\" textLength=\"157\" x=\"297.5\" y=\"73.668\">CommunicationSystem</text><line style=\"stroke:#181818;stroke-width:0.5;\" x1=\"295.5\" x2=\"456.5\" y1=\"81.6211\" y2=\"81.6211\"/></g></a><!--MD5=[35f0587eaee8d5bb9a02e25b63afc23b]\n",
       "class E16--><a href=\"psysml:da857e8f-da68-4c84-bb5d-e57a42ba7edb\" target=\"_top\" title=\"psysml:da857e8f-da68-4c84-bb5d-e57a42ba7edb\" xlink:actuate=\"onRequest\" xlink:href=\"psysml:da857e8f-da68-4c84-bb5d-e57a42ba7edb\" xlink:show=\"new\" xlink:title=\"psysml:da857e8f-da68-4c84-bb5d-e57a42ba7edb\" xlink:type=\"simple\"><g id=\"elem_E16\"><rect fill=\"#FFFFFF\" height=\"48.6211\" id=\"E16\" rx=\"10\" ry=\"10\" style=\"stroke:#181818;stroke-width:0.5;\" width=\"341\" x=\"32.5\" y=\"150\"/><text fill=\"#000000\" font-family=\"sans-serif\" font-size=\"12\" font-style=\"italic\" lengthAdjust=\"spacing\" textLength=\"97\" x=\"154.5\" y=\"166.6016\">«perform action»</text><text fill=\"#000000\" font-family=\"sans-serif\" font-size=\"14\" lengthAdjust=\"spacing\" textLength=\"331\" x=\"35.5\" y=\"182.668\">transmitData :&gt;DetectionProcesses::processData</text><line style=\"stroke:#181818;stroke-width:0.5;\" x1=\"33.5\" x2=\"372.5\" y1=\"190.6211\" y2=\"190.6211\"/></g></a><!--MD5=[60e55a4a9b2f0dc0a36787c5a2095786]\n",
       "class E17--><a href=\"psysml:dd588cb7-6bbc-4b9b-84ba-bd1eb80ef661\" target=\"_top\" title=\"psysml:dd588cb7-6bbc-4b9b-84ba-bd1eb80ef661\" xlink:actuate=\"onRequest\" xlink:href=\"psysml:dd588cb7-6bbc-4b9b-84ba-bd1eb80ef661\" xlink:show=\"new\" xlink:title=\"psysml:dd588cb7-6bbc-4b9b-84ba-bd1eb80ef661\" xlink:type=\"simple\"><g id=\"elem_E17\"><rect fill=\"#FFFFFF\" height=\"48.6211\" id=\"E17\" style=\"stroke:#181818;stroke-width:0.5;\" width=\"94\" x=\"165\" y=\"41\"/><text fill=\"#000000\" font-family=\"sans-serif\" font-size=\"12\" font-style=\"italic\" lengthAdjust=\"spacing\" textLength=\"63\" x=\"180.5\" y=\"57.6016\">«part  def»</text><text fill=\"#000000\" font-family=\"sans-serif\" font-size=\"14\" lengthAdjust=\"spacing\" textLength=\"88\" x=\"168\" y=\"73.668\">PowerSupply</text><line style=\"stroke:#181818;stroke-width:0.5;\" x1=\"166\" x2=\"258\" y1=\"81.6211\" y2=\"81.6211\"/></g></a><!--MD5=[e3af68e2095dcd46cf4beab32f25c64b]\n",
       "class E18--><a href=\"psysml:a47e92ea-78dd-403d-bada-06840ce7ae1a\" target=\"_top\" title=\"psysml:a47e92ea-78dd-403d-bada-06840ce7ae1a\" xlink:actuate=\"onRequest\" xlink:href=\"psysml:a47e92ea-78dd-403d-bada-06840ce7ae1a\" xlink:show=\"new\" xlink:title=\"psysml:a47e92ea-78dd-403d-bada-06840ce7ae1a\" xlink:type=\"simple\"><g id=\"elem_E18\"><rect fill=\"#FFFFFF\" height=\"48.6211\" id=\"E18\" style=\"stroke:#181818;stroke-width:0.5;\" width=\"97\" x=\"32.5\" y=\"41\"/><text fill=\"#000000\" font-family=\"sans-serif\" font-size=\"12\" font-style=\"italic\" lengthAdjust=\"spacing\" textLength=\"63\" x=\"49.5\" y=\"57.6016\">«part  def»</text><text fill=\"#000000\" font-family=\"sans-serif\" font-size=\"14\" lengthAdjust=\"spacing\" textLength=\"91\" x=\"35.5\" y=\"73.668\">UserInterface</text><line style=\"stroke:#181818;stroke-width:0.5;\" x1=\"33.5\" x2=\"128.5\" y1=\"81.6211\" y2=\"81.6211\"/></g></a><!--MD5=[209b3feb70ccb6233bfe1053d122c12c]\n",
       "reverse link E2 to E3--><g id=\"link_E2_E3\"><a href=\"psysml:6b5ef648-389e-43e3-ad84-b44d6b1fabea\" target=\"_top\" title=\"psysml:6b5ef648-389e-43e3-ad84-b44d6b1fabea\" xlink:actuate=\"onRequest\" xlink:href=\"psysml:6b5ef648-389e-43e3-ad84-b44d6b1fabea\" xlink:show=\"new\" xlink:title=\"psysml:6b5ef648-389e-43e3-ad84-b44d6b1fabea\" xlink:type=\"simple\"><path d=\"M812,103.06 C812,147.44 812,221.01 812,258.67 \" fill=\"none\" id=\"E2-backto-E3\" style=\"stroke:#181818;stroke-width:1.0;\"/><polygon fill=\"none\" points=\"812,90.03,808,96.03,812,102.03,816,96.03,812,90.03\" style=\"stroke:#181818;stroke-width:1.0;\"/><text fill=\"#000000\" font-family=\"sans-serif\" font-size=\"13\" lengthAdjust=\"spacing\" textLength=\"6\" x=\"805.2688\" y=\"248.4419\">*</text></a></g><!--MD5=[4672eba38e49728da53d11aeb285b987]\n",
       "reverse link E3 to E4--><g id=\"link_E3_E4\"><a href=\"psysml:57e35937-1171-4677-ae50-eb19b543ec95\" target=\"_top\" title=\"psysml:57e35937-1171-4677-ae50-eb19b543ec95\" xlink:actuate=\"onRequest\" xlink:href=\"psysml:57e35937-1171-4677-ae50-eb19b543ec95\" xlink:show=\"new\" xlink:title=\"psysml:57e35937-1171-4677-ae50-eb19b543ec95\" xlink:type=\"simple\"><path d=\"M848.42,316.98 C866.8,333.36 888.68,352.87 905.44,367.82 \" fill=\"none\" id=\"E3-backto-E4\" style=\"stroke:#181818;stroke-width:1.0;\"/><polygon fill=\"#181818\" points=\"838.63,308.25,840.4487,315.228,847.5894,316.233,845.7707,309.255,838.63,308.25\" style=\"stroke:#181818;stroke-width:1.0;\"/><text fill=\"#000000\" font-family=\"sans-serif\" font-size=\"13\" lengthAdjust=\"spacing\" textLength=\"8\" x=\"889.609\" y=\"357.2306\">1</text></a></g><!--MD5=[191cde3d490a3f6d7bb551fe3ddca469]\n",
       "reverse link E3 to E5--><g id=\"link_E3_E5\"><a href=\"psysml:d683640a-8afa-47d5-ad67-9ff7cbe2f636\" target=\"_top\" title=\"psysml:d683640a-8afa-47d5-ad67-9ff7cbe2f636\" xlink:actuate=\"onRequest\" xlink:href=\"psysml:d683640a-8afa-47d5-ad67-9ff7cbe2f636\" xlink:show=\"new\" xlink:title=\"psysml:d683640a-8afa-47d5-ad67-9ff7cbe2f636\" xlink:type=\"simple\"><path d=\"M750.64,313.94 C715.2,330.95 671.22,352.05 638.09,367.95 \" fill=\"none\" id=\"E3-backto-E5\" style=\"stroke:#181818;stroke-width:1.0;\"/><polygon fill=\"#181818\" points=\"762.79,308.11,755.6505,307.096,751.9686,313.2963,759.1081,314.3103,762.79,308.11\" style=\"stroke:#181818;stroke-width:1.0;\"/><text fill=\"#000000\" font-family=\"sans-serif\" font-size=\"13\" lengthAdjust=\"spacing\" textLength=\"8\" x=\"641.6443\" y=\"357.3939\">1</text></a></g><!--MD5=[ce036f65110ae2351ccce5a81dc2e928]\n",
       "reverse link E2 to E6--><g id=\"link_E2_E6\"><a href=\"psysml:7b1c79ec-840a-4b15-936c-2f7d517fc55b\" target=\"_top\" title=\"psysml:7b1c79ec-840a-4b15-936c-2f7d517fc55b\" xlink:actuate=\"onRequest\" xlink:href=\"psysml:7b1c79ec-840a-4b15-936c-2f7d517fc55b\" xlink:show=\"new\" xlink:title=\"psysml:7b1c79ec-840a-4b15-936c-2f7d517fc55b\" xlink:type=\"simple\"><path d=\"M777.22,99.43 C760.02,115.72 739.65,135.01 724.01,149.82 \" fill=\"none\" id=\"E2-backto-E6\" style=\"stroke:#181818;stroke-width:1.0;\"/><polygon fill=\"#181818\" points=\"786.92,90.25,779.8131,91.4715,778.2072,98.5015,785.3141,97.28,786.92,90.25\" style=\"stroke:#181818;stroke-width:1.0;\"/><text fill=\"#000000\" font-family=\"sans-serif\" font-size=\"13\" lengthAdjust=\"spacing\" textLength=\"8\" x=\"721.3938\" y=\"139.2306\">1</text></a></g><!--MD5=[3f50a3473f1dfb74d3f76443e03635af]\n",
       "reverse link E6 to E7--><g id=\"link_E6_E7\"><a href=\"psysml:dfdb780c-eb7a-485e-9a8b-406b54ec13e3\" target=\"_top\" title=\"psysml:dfdb780c-eb7a-485e-9a8b-406b54ec13e3\" xlink:actuate=\"onRequest\" xlink:href=\"psysml:dfdb780c-eb7a-485e-9a8b-406b54ec13e3\" xlink:show=\"new\" xlink:title=\"psysml:dfdb780c-eb7a-485e-9a8b-406b54ec13e3\" xlink:type=\"simple\"><path d=\"M652.47,206.62 C627.56,223.27 597.38,243.46 574.41,258.82 \" fill=\"none\" id=\"E6-backto-E7\" style=\"stroke:#181818;stroke-width:1.0;\"/><polygon fill=\"none\" points=\"663.49,199.25,656.2789,199.2522,653.5074,205.9094,660.7185,205.9072,663.49,199.25\" style=\"stroke:#181818;stroke-width:1.0;\"/><text fill=\"#000000\" font-family=\"sans-serif\" font-size=\"13\" lengthAdjust=\"spacing\" textLength=\"22\" x=\"558.6651\" y=\"248.2306\">1..*</text></a></g><!--MD5=[4d1e63f6c5cc89ece832f1e02a2fb60c]\n",
       "link E7 to E5--><g id=\"link_E7_E5\"><a href=\"psysml:4b1c6ae7-1a8e-4f2e-8db2-2fc604360f80\" target=\"_top\" title=\"psysml:4b1c6ae7-1a8e-4f2e-8db2-2fc604360f80\" xlink:actuate=\"onRequest\" xlink:href=\"psysml:4b1c6ae7-1a8e-4f2e-8db2-2fc604360f80\" xlink:show=\"new\" xlink:title=\"psysml:4b1c6ae7-1a8e-4f2e-8db2-2fc604360f80\" xlink:type=\"simple\"><path d=\"M550.1,308.25 C555.73,320.3 562.74,335.3 569.25,349.24 \" fill=\"none\" id=\"E7-to-E5\" style=\"stroke:#181818;stroke-width:1.0;\"/><polygon fill=\"none\" points=\"575.81,346.74,577.93,367.82,563.13,352.66,575.81,346.74\" style=\"stroke:#181818;stroke-width:1.0;\"/></a></g><!--MD5=[65f962d72b3a6bed1ede4f3c867e43a4]\n",
       "reverse link E2 to E8--><g id=\"link_E2_E8\"><a href=\"psysml:d89eefe8-b145-4bda-a5f3-dd000f863c80\" target=\"_top\" title=\"psysml:d89eefe8-b145-4bda-a5f3-dd000f863c80\" xlink:actuate=\"onRequest\" xlink:href=\"psysml:d89eefe8-b145-4bda-a5f3-dd000f863c80\" xlink:show=\"new\" xlink:title=\"psysml:d89eefe8-b145-4bda-a5f3-dd000f863c80\" xlink:type=\"simple\"><path d=\"M855.65,93.5 C883.75,110.88 919.93,133.25 946.88,149.92 \" fill=\"none\" id=\"E2-backto-E8\" style=\"stroke:#181818;stroke-width:1.0;\"/><polygon fill=\"#181818\" points=\"844.54,86.63,847.537,93.1888,854.744,92.9449,851.747,86.3861,844.54,86.63\" style=\"stroke:#181818;stroke-width:1.0;\"/><text fill=\"#000000\" font-family=\"sans-serif\" font-size=\"13\" lengthAdjust=\"spacing\" textLength=\"8\" x=\"928.0867\" y=\"139.3562\">1</text></a></g><!--MD5=[22f5b4bae7e060dce8a1c8021efdb95b]\n",
       "reverse link E8 to E9--><g id=\"link_E8_E9\"><a href=\"psysml:04d2594b-9976-4be4-9bd4-68b2ed35dd4b\" target=\"_top\" title=\"psysml:04d2594b-9976-4be4-9bd4-68b2ed35dd4b\" xlink:actuate=\"onRequest\" xlink:href=\"psysml:04d2594b-9976-4be4-9bd4-68b2ed35dd4b\" xlink:show=\"new\" xlink:title=\"psysml:04d2594b-9976-4be4-9bd4-68b2ed35dd4b\" xlink:type=\"simple\"><path d=\"M1016.21,208.89 C1031.34,225.08 1049.16,244.15 1062.87,258.82 \" fill=\"none\" id=\"E8-backto-E9\" style=\"stroke:#181818;stroke-width:1.0;\"/><polygon fill=\"none\" points=\"1007.19,199.25,1008.3669,206.3644,1015.3868,208.0143,1014.2098,200.8999,1007.19,199.25\" style=\"stroke:#181818;stroke-width:1.0;\"/><text fill=\"#000000\" font-family=\"sans-serif\" font-size=\"13\" lengthAdjust=\"spacing\" textLength=\"22\" x=\"1032.3804\" y=\"248.2306\">1..*</text></a></g><!--MD5=[c2be97adba6ddfe1c8f349fab141c927]\n",
       "link E9 to E4--><g id=\"link_E9_E4\"><a href=\"psysml:7dfd19f8-bc0b-4b13-be0a-0eee0ed061e0\" target=\"_top\" title=\"psysml:7dfd19f8-bc0b-4b13-be0a-0eee0ed061e0\" xlink:actuate=\"onRequest\" xlink:href=\"psysml:7dfd19f8-bc0b-4b13-be0a-0eee0ed061e0\" xlink:show=\"new\" xlink:title=\"psysml:7dfd19f8-bc0b-4b13-be0a-0eee0ed061e0\" xlink:type=\"simple\"><path d=\"M1051.04,308.25 C1030.84,322.38 1004.83,340.57 982.28,356.34 \" fill=\"none\" id=\"E9-to-E4\" style=\"stroke:#181818;stroke-width:1.0;\"/><polygon fill=\"none\" points=\"986.26,362.09,965.86,367.82,978.24,350.62,986.26,362.09\" style=\"stroke:#181818;stroke-width:1.0;\"/></a></g><!--MD5=[de308be4a2431766a05a907a031c07fc]\n",
       "reverse link E10 to E11--><g id=\"link_E10_E11\"><a href=\"psysml:029cd794-8c81-4e4e-9d99-8aae0817b75f\" target=\"_top\" title=\"psysml:029cd794-8c81-4e4e-9d99-8aae0817b75f\" xlink:actuate=\"onRequest\" xlink:href=\"psysml:029cd794-8c81-4e4e-9d99-8aae0817b75f\" xlink:show=\"new\" xlink:title=\"psysml:029cd794-8c81-4e4e-9d99-8aae0817b75f\" xlink:type=\"simple\"><path d=\"M582.49,102.95 C587.01,131.98 587.95,172.08 567,199 C542.15,230.93 505.26,250.95 466.71,263.41 \" fill=\"none\" id=\"E10-backto-E11\" style=\"stroke:#181818;stroke-width:1.0;\"/><polygon fill=\"none\" points=\"580.15,90.09,577.2898,96.7096,582.3001,101.8958,585.1603,95.2762,580.15,90.09\" style=\"stroke:#181818;stroke-width:1.0;\"/><text fill=\"#000000\" font-family=\"sans-serif\" font-size=\"13\" lengthAdjust=\"spacing\" textLength=\"6\" x=\"474.4906\" y=\"259.7438\">*</text></a></g><!--MD5=[94adabc162ce7e41b39f13be14fbaeb3]\n",
       "reverse link E11 to E12--><g id=\"link_E11_E12\"><a href=\"psysml:714a24db-4d2b-4bb7-8124-b33910f67a70\" target=\"_top\" title=\"psysml:714a24db-4d2b-4bb7-8124-b33910f67a70\" xlink:actuate=\"onRequest\" xlink:href=\"psysml:714a24db-4d2b-4bb7-8124-b33910f67a70\" xlink:show=\"new\" xlink:title=\"psysml:714a24db-4d2b-4bb7-8124-b33910f67a70\" xlink:type=\"simple\"><path d=\"M267.11,317.89 C252.12,334.08 234.48,353.15 220.91,367.82 \" fill=\"none\" id=\"E11-backto-E12\" style=\"stroke:#181818;stroke-width:1.0;\"/><polygon fill=\"#181818\" points=\"276.03,308.25,269.0192,309.9379,267.8808,317.0585,274.8916,315.3707,276.03,308.25\" style=\"stroke:#181818;stroke-width:1.0;\"/><text fill=\"#000000\" font-family=\"sans-serif\" font-size=\"13\" lengthAdjust=\"spacing\" textLength=\"8\" x=\"217.4994\" y=\"357.2306\">1</text></a></g><!--MD5=[45c2047ce13b04a4df90e095f38df898]\n",
       "reverse link E10 to E13--><g id=\"link_E10_E13\"><a href=\"psysml:668d4d2a-8aac-49e5-ae90-e2f9ac44a418\" target=\"_top\" title=\"psysml:668d4d2a-8aac-49e5-ae90-e2f9ac44a418\" xlink:actuate=\"onRequest\" xlink:href=\"psysml:668d4d2a-8aac-49e5-ae90-e2f9ac44a418\" xlink:show=\"new\" xlink:title=\"psysml:668d4d2a-8aac-49e5-ae90-e2f9ac44a418\" xlink:type=\"simple\"><path d=\"M543.95,100.35 C529.66,116.44 512.93,135.29 500.02,149.82 \" fill=\"none\" id=\"E10-backto-E13\" style=\"stroke:#181818;stroke-width:1.0;\"/><polygon fill=\"#181818\" points=\"552.92,90.25,545.9462,92.0846,544.9575,99.2276,551.9313,97.393,552.92,90.25\" style=\"stroke:#181818;stroke-width:1.0;\"/><text fill=\"#000000\" font-family=\"sans-serif\" font-size=\"13\" lengthAdjust=\"spacing\" textLength=\"8\" x=\"496.3814\" y=\"139.2306\">1</text></a></g><!--MD5=[01db00f33b28669d6d9febea71002831]\n",
       "reverse link E13 to E14--><g id=\"link_E13_E14\"><a href=\"psysml:6e904131-4b7b-423f-ad98-1e207bee95de\" target=\"_top\" title=\"psysml:6e904131-4b7b-423f-ad98-1e207bee95de\" xlink:actuate=\"onRequest\" xlink:href=\"psysml:6e904131-4b7b-423f-ad98-1e207bee95de\" xlink:show=\"new\" xlink:title=\"psysml:6e904131-4b7b-423f-ad98-1e207bee95de\" xlink:type=\"simple\"><path d=\"M395.84,197.82 C394.21,198.22 392.6,198.61 391,199 C267.69,228.7 232.01,217.96 112,259 C106.11,261.01 100,263.55 94.17,266.21 \" fill=\"none\" id=\"E13-backto-E14\" style=\"stroke:#181818;stroke-width:1.0;\"/><polygon fill=\"none\" points=\"408.47,194.66,401.6784,192.2365,396.8291,197.5735,403.6207,199.9971,408.47,194.66\" style=\"stroke:#181818;stroke-width:1.0;\"/><text fill=\"#000000\" font-family=\"sans-serif\" font-size=\"13\" lengthAdjust=\"spacing\" textLength=\"22\" x=\"101.9451\" y=\"259.2713\">1..*</text></a></g><!--MD5=[8bfbb9e39edc5f4b0c2a6d982bb723b0]\n",
       "link E14 to E12--><g id=\"link_E14_E12\"><a href=\"psysml:874008cb-846c-448b-8a56-4a0d2b03769b\" target=\"_top\" title=\"psysml:874008cb-846c-448b-8a56-4a0d2b03769b\" xlink:actuate=\"onRequest\" xlink:href=\"psysml:874008cb-846c-448b-8a56-4a0d2b03769b\" xlink:show=\"new\" xlink:title=\"psysml:874008cb-846c-448b-8a56-4a0d2b03769b\" xlink:type=\"simple\"><path d=\"M93.18,308.25 C110.79,322.1 133.36,339.85 153.13,355.41 \" fill=\"none\" id=\"E14-to-E12\" style=\"stroke:#181818;stroke-width:1.0;\"/><polygon fill=\"none\" points=\"157.51,349.95,168.9,367.82,148.85,360.95,157.51,349.95\" style=\"stroke:#181818;stroke-width:1.0;\"/></a></g><!--MD5=[58e4cf537c4d67f6b3da95fd5b934e63]\n",
       "reverse link E15 to E16--><g id=\"link_E15_E16\"><a href=\"psysml:656dd092-23f2-4b7d-a580-fdd3aba18fb0\" target=\"_top\" title=\"psysml:656dd092-23f2-4b7d-a580-fdd3aba18fb0\" xlink:actuate=\"onRequest\" xlink:href=\"psysml:656dd092-23f2-4b7d-a580-fdd3aba18fb0\" xlink:show=\"new\" xlink:title=\"psysml:656dd092-23f2-4b7d-a580-fdd3aba18fb0\" xlink:type=\"simple\"><path d=\"M326.41,97.17 C299.35,113.91 266.35,134.32 241.29,149.82 \" fill=\"none\" id=\"E15-backto-E16\" style=\"stroke:#181818;stroke-width:1.0;\"/><polygon fill=\"none\" points=\"337.61,90.25,330.4031,90.0035,327.4037,96.5613,334.6106,96.8077,337.61,90.25\" style=\"stroke:#181818;stroke-width:1.0;\"/><text fill=\"#000000\" font-family=\"sans-serif\" font-size=\"13\" lengthAdjust=\"spacing\" textLength=\"6\" x=\"244.3331\" y=\"139.2306\">*</text></a></g><!--MD5=[7dbafe7b0c5dc81c9a72fb272352dca2]\n",
       "@startuml\r\n",
       "skin sysmlbw\r\n",
       "skinparam monochrome true\r\n",
       "skinparam wrapWidth 300\r\n",
       "hide circle\r\n",
       "\r\n",
       "package \"SubmarineDetectionSystem\" as E1  [[psysml:aa41c209-596f-4d07-b130-a57391c55d83 ]]  {\r\n",
       "comp def \"Sensors\" as E2  <<(T,blue) part  def>> [[psysml:819a9308-4a04-4151-aabd-c501e864c96c ]] {\r\n",
       "}\r\n",
       "comp usage \"detectSubmarine :>DetectionProcesses::detectSubmarine \" as E3  << perform action>> [[psysml:93c48306-cf41-4413-b1f4-fa16a144933d ]] {\r\n",
       "}\r\n",
       "comp usage \"^useRadar: Detect  \" as E4  <<(T,blue) action>> [[psysml:36e63022-f5d3-4b6a-8ff7-da980a38f9fc ]] {\r\n",
       "}\r\n",
       "comp usage \"^useSonar: Detect  \" as E5  <<(T,blue) action>> [[psysml:5ec10446-0826-4dfc-9e6e-7d165af81fdd ]] {\r\n",
       "}\r\n",
       "comp usage \"sonarSubsystem  \" as E6  <<(T,blue) part>> [[psysml:11ec33cc-2216-4a1b-9b15-4fdc2b726023 ]] {\r\n",
       "}\r\n",
       "comp usage \"useSonar \" as E7  << perform>> [[psysml:9ae923ed-cc52-4378-b7e1-4a36c30f05fd ]] {\r\n",
       "}\r\n",
       "comp usage \"radarSubsystem  \" as E8  <<(T,blue) part>> [[psysml:4fb36d62-8310-4da1-82c3-bd938725ba06 ]] {\r\n",
       "}\r\n",
       "comp usage \"useRadar \" as E9  << perform>> [[psysml:3bb69fc7-8284-46a9-afee-da9030b44008 ]] {\r\n",
       "}\r\n",
       "comp def \"DataProcessingUnit\" as E10  <<(T,blue) part  def>> [[psysml:71eb91ec-534d-4ac3-862a-c3233948812f ]] {\r\n",
       "}\r\n",
       "comp usage \"processData :>DetectionProcesses::processData \" as E11  << perform action>> [[psysml:09790bf9-219e-41a3-9048-3997c50644cc ]] {\r\n",
       "}\r\n",
       "comp usage \"^analyze: Process  \" as E12  <<(T,blue) action>> [[psysml:eddd53e0-7de2-41fe-9339-2e15ad831edd ]] {\r\n",
       "}\r\n",
       "comp usage \"analysisSubsystem  \" as E13  <<(T,blue) part>> [[psysml:359e0c98-e8c6-4809-a4a3-0733613a9a6b ]] {\r\n",
       "}\r\n",
       "comp usage \"analyze \" as E14  << perform>> [[psysml:6ce21dbd-cc66-45f8-8598-a81c03769cb5 ]] {\r\n",
       "}\r\n",
       "comp def \"CommunicationSystem\" as E15  <<(T,blue) part  def>> [[psysml:4f40e140-c1eb-4a7a-9043-f9bf3949b64f ]] {\r\n",
       "}\r\n",
       "comp usage \"transmitData :>DetectionProcesses::processData \" as E16  << perform action>> [[psysml:da857e8f-da68-4c84-bb5d-e57a42ba7edb ]] {\r\n",
       "}\r\n",
       "comp def \"PowerSupply\" as E17  <<(T,blue) part  def>> [[psysml:dd588cb7-6bbc-4b9b-84ba-bd1eb80ef661 ]] {\r\n",
       "}\r\n",
       "comp def \"UserInterface\" as E18  <<(T,blue) part  def>> [[psysml:a47e92ea-78dd-403d-bada-06840ce7ae1a ]] {\r\n",
       "}\r\n",
       "}\r\n",
       "E2 o- - \"*\"E3 [[psysml:6b5ef648-389e-43e3-ad84-b44d6b1fabea ]] \r\n",
       "E3 *- - \"1\"E4 [[psysml:57e35937-1171-4677-ae50-eb19b543ec95 ]] \r\n",
       "E3 *- - \"1\"E5 [[psysml:d683640a-8afa-47d5-ad67-9ff7cbe2f636 ]] \r\n",
       "E2 *- - \"1\"E6 [[psysml:7b1c79ec-840a-4b15-936c-2f7d517fc55b ]] \r\n",
       "E6 o- - \"1..*\"E7 [[psysml:dfdb780c-eb7a-485e-9a8b-406b54ec13e3 ]] \r\n",
       "E7 - -|> E5 [[psysml:4b1c6ae7-1a8e-4f2e-8db2-2fc604360f80 ]] \r\n",
       "E2 *- - \"1\"E8 [[psysml:d89eefe8-b145-4bda-a5f3-dd000f863c80 ]] \r\n",
       "E8 o- - \"1..*\"E9 [[psysml:04d2594b-9976-4be4-9bd4-68b2ed35dd4b ]] \r\n",
       "E9 - -|> E4 [[psysml:7dfd19f8-bc0b-4b13-be0a-0eee0ed061e0 ]] \r\n",
       "E10 o- - \"*\"E11 [[psysml:029cd794-8c81-4e4e-9d99-8aae0817b75f ]] \r\n",
       "E11 *- - \"1\"E12 [[psysml:714a24db-4d2b-4bb7-8124-b33910f67a70 ]] \r\n",
       "E10 *- - \"1\"E13 [[psysml:668d4d2a-8aac-49e5-ae90-e2f9ac44a418 ]] \r\n",
       "E13 o- - \"1..*\"E14 [[psysml:6e904131-4b7b-423f-ad98-1e207bee95de ]] \r\n",
       "E14 - -|> E12 [[psysml:874008cb-846c-448b-8a56-4a0d2b03769b ]] \r\n",
       "E15 o- - \"*\"E16 [[psysml:656dd092-23f2-4b7d-a580-fdd3aba18fb0 ]] \r\n",
       "@enduml\r\n",
       "\n",
       "PlantUML version 1.2022.7(Mon Aug 22 13:01:30 EDT 2022)\n",
       "(EPL source distribution)\n",
       "Java Runtime: OpenJDK Runtime Environment\n",
       "JVM: OpenJDK 64-Bit Server VM\n",
       "Default Encoding: UTF-8\n",
       "Language: en\n",
       "Country: US\n",
       "--></g></svg>"
      ]
     },
     "execution_count": 5,
     "metadata": {},
     "output_type": "execute_result"
    }
   ],
   "source": [
    "%viz --view=tree  SubmarineDetectionSystem"
   ]
  },
  {
   "cell_type": "code",
   "execution_count": null,
   "id": "9fb92900",
   "metadata": {},
   "outputs": [],
   "source": []
  }
 ],
 "metadata": {
  "kernelspec": {
   "display_name": "SysML",
   "language": "sysml",
   "name": "sysml"
  },
  "language_info": {
   "codemirror_mode": "sysml",
   "file_extension": ".sysml",
   "mimetype": "text/x-sysml",
   "name": "SysML",
   "pygments_lexer": "java",
   "version": "1.0.0"
  }
 },
 "nbformat": 4,
 "nbformat_minor": 5
}
