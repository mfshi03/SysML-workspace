{
 "cells": [
  {
   "cell_type": "code",
   "execution_count": 3,
   "id": "f94cfb94",
   "metadata": {},
   "outputs": [
    {
     "name": "stderr",
     "output_type": "stream",
     "text": [
      "ERROR:Couldn't resolve reference to Element 'Rough'. (3.sysml line : 12 column : 30)\n",
      "ERROR:Couldn't resolve reference to Element 'Icy'. (3.sysml line : 13 column : 28)\n",
      "ERROR:Couldn't resolve reference to Type 'CountValue'. (3.sysml line : 20 column : 36)\n",
      "ERROR:An attribute must be typed by attribute definitions. (3.sysml line : 20 column : 9)\n"
     ]
    },
    {
     "data": {
      "text/plain": []
     },
     "execution_count": 3,
     "metadata": {},
     "output_type": "execute_result"
    }
   ],
   "source": [
    "package UnmannedGroundVehicle_LogicalArchitecture {\n",
    "        \n",
    "    import SI::*;\n",
    "    \n",
    "    attribute def Terrain {\n",
    "        roughness : LengthValue;\n",
    "        iciness : LengthValue;\n",
    "    }\n",
    "        \n",
    "    part def NavigationSystem {\n",
    "        attribute desiredTerrain : Terrain {\n",
    "            :>> roughness := LengthValue;\n",
    "            :>> iciness := LengthValue;\n",
    "        }        \n",
    "    }\n",
    "        \n",
    "    part def UGV {\n",
    "        part navigationSystem : NavigationSystem;\n",
    "        attribute missionTime : DurationValue;\n",
    "        attribute lifetimeCycles : LengthValue;\n",
    "    }\n",
    "    \n",
    "    // Instantiate UGV with specific mission requirements\n",
    "    // define specificUGV : UGV {\n",
    "       // attribute redefines missionTime = 5 [hr];\n",
    "        //attribute redefines lifetimeCycles = 100 [cycles];\n",
    "    //}\n",
    "}"
   ]
  },
  {
   "cell_type": "code",
   "execution_count": null,
   "id": "7a085c1b",
   "metadata": {},
   "outputs": [],
   "source": [
    "/* Structured output \n",
    "\n",
    "package UnmannedGroundVehicle_LogicalArchitecture {\n",
    "        \n",
    "    import SI::*;\n",
    "        \n",
    "    attribute def Terrain {\n",
    "        roughness : RoughnessValue;\n",
    "        iciness : IceValue;\n",
    "    }\n",
    "        \n",
    "    part def NavigationSystem {\n",
    "        attribute desiredTerrain : Terrain {\n",
    "            :>> roughness := Rough;\n",
    "            :>> iciness := Icy;\n",
    "        }        \n",
    "    }\n",
    "        \n",
    "    part def UGV {\n",
    "        part navigationSystem : NavigationSystem;\n",
    "        attribute missionTime : DurationValue;\n",
    "        attribute lifetimeCycles : CountValue;\n",
    "    }\n",
    "    \n",
    "    // Instantiate UGV with specific mission requirements\n",
    "    define specificUGV : UGV {\n",
    "        attribute redefines missionTime = 5 [hr];\n",
    "        attribute redefines lifetimeCycles = 100 [cycles];\n",
    "    }\n",
    "}\n",
    "*/"
   ]
  },
  {
   "cell_type": "code",
   "execution_count": null,
   "id": "1009f0ed",
   "metadata": {},
   "outputs": [],
   "source": []
  }
 ],
 "metadata": {
  "kernelspec": {
   "display_name": "SysML",
   "language": "sysml",
   "name": "sysml"
  },
  "language_info": {
   "codemirror_mode": "sysml",
   "file_extension": ".sysml",
   "mimetype": "text/x-sysml",
   "name": "SysML",
   "pygments_lexer": "java",
   "version": "1.0.0"
  }
 },
 "nbformat": 4,
 "nbformat_minor": 5
}
