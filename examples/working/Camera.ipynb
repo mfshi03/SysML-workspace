{
 "cells": [
  {
   "cell_type": "code",
   "execution_count": 1,
   "id": "bbb69245",
   "metadata": {},
   "outputs": [
    {
     "data": {
      "text/plain": [
       "PartDefinition Camera (b8b785b2-007b-411d-a641-a65be58019c9)\n",
       "Package PictureTaking (49693964-ddc2-4dab-9abe-58b73a378656)\n"
      ]
     },
     "execution_count": 1,
     "metadata": {},
     "output_type": "execute_result"
    }
   ],
   "source": [
    "\n",
    "part def Camera {\n",
    "\timport PictureTaking::*;\n",
    "\t\n",
    "\tperform action takePicture[*] :> PictureTaking::takePicture;\n",
    "\t\n",
    "\tpart focusingSubsystem {\n",
    "\t\tperform takePicture.focus;\n",
    "\t}\n",
    "\t\n",
    "\tpart imagingSubsystem {\n",
    "\t\tperform takePicture.shoot;\n",
    "\t}\n",
    "\t\n",
    "}\n",
    "\n",
    "package PictureTaking {\n",
    "\tpart def Exposure;\n",
    "\t\n",
    "\taction def Focus { out xrsl: Exposure; }\n",
    "\taction def Shoot { in xsf: Exposure; }\t\n",
    "\t\t\n",
    "\taction takePicture {\t\t\n",
    "\t\taction focus: Focus[1];\n",
    "\t\tflow focus.xrsl to shoot.xsf;\n",
    "\t\taction shoot: Shoot[1];\n",
    "\t}\n",
    "}"
   ]
  },
  {
   "cell_type": "code",
   "execution_count": 5,
   "id": "707da67e",
   "metadata": {},
   "outputs": [
    {
     "data": {
      "image/svg+xml": [
       "<?xml version=\"1.0\" encoding=\"UTF-8\" standalone=\"no\"?><svg xmlns=\"http://www.w3.org/2000/svg\" xmlns:xlink=\"http://www.w3.org/1999/xlink\" contentStyleType=\"text/css\" height=\"389px\" preserveAspectRatio=\"none\" style=\"width:490px;height:389px;background:#FFFFFF;\" version=\"1.1\" viewBox=\"0 0 490 389\" width=\"490px\" zoomAndPan=\"magnify\"><defs/><g><!--MD5=[43c9051892ef23e1a46a86907403d788]\n",
       "class E1--><a href=\"psysml:b8b785b2-007b-411d-a641-a65be58019c9\" target=\"_top\" title=\"psysml:b8b785b2-007b-411d-a641-a65be58019c9\" xlink:actuate=\"onRequest\" xlink:href=\"psysml:b8b785b2-007b-411d-a641-a65be58019c9\" xlink:show=\"new\" xlink:title=\"psysml:b8b785b2-007b-411d-a641-a65be58019c9\" xlink:type=\"simple\"><g id=\"elem_E1\"><rect fill=\"#FFFFFF\" height=\"48.6211\" id=\"E1\" style=\"stroke:#181818;stroke-width:0.5;\" width=\"65\" x=\"213.5\" y=\"7\"/><text fill=\"#000000\" font-family=\"sans-serif\" font-size=\"12\" font-style=\"italic\" lengthAdjust=\"spacing\" textLength=\"63\" x=\"214.5\" y=\"23.6016\">«part  def»</text><text fill=\"#000000\" font-family=\"sans-serif\" font-size=\"14\" lengthAdjust=\"spacing\" textLength=\"53\" x=\"219.5\" y=\"39.668\">Camera</text><line style=\"stroke:#181818;stroke-width:0.5;\" x1=\"214.5\" x2=\"277.5\" y1=\"47.6211\" y2=\"47.6211\"/></g></a><!--MD5=[b4997ac47864f28c2f74865a473b2911]\n",
       "class E2--><a href=\"psysml:f1ebac09-b5d2-4c14-a86f-fbd3ecaa0ed4\" target=\"_top\" title=\"psysml:f1ebac09-b5d2-4c14-a86f-fbd3ecaa0ed4\" xlink:actuate=\"onRequest\" xlink:href=\"psysml:f1ebac09-b5d2-4c14-a86f-fbd3ecaa0ed4\" xlink:show=\"new\" xlink:title=\"psysml:f1ebac09-b5d2-4c14-a86f-fbd3ecaa0ed4\" xlink:type=\"simple\"><g id=\"elem_E2\"><rect fill=\"#FFFFFF\" height=\"48.6211\" id=\"E2\" rx=\"10\" ry=\"10\" style=\"stroke:#181818;stroke-width:0.5;\" width=\"283\" x=\"104.5\" y=\"225\"/><text fill=\"#000000\" font-family=\"sans-serif\" font-size=\"12\" font-style=\"italic\" lengthAdjust=\"spacing\" textLength=\"97\" x=\"197.5\" y=\"241.6016\">«perform action»</text><text fill=\"#000000\" font-family=\"sans-serif\" font-size=\"14\" lengthAdjust=\"spacing\" textLength=\"273\" x=\"107.5\" y=\"257.668\">takePicture :&gt;PictureTaking::takePicture</text><line style=\"stroke:#181818;stroke-width:0.5;\" x1=\"105.5\" x2=\"386.5\" y1=\"265.6211\" y2=\"265.6211\"/></g></a><!--MD5=[09b614a08d8cba4a07c9adeb5e0fee81]\n",
       "class E3--><a href=\"psysml:a2915c85-3e60-4cb8-ad5c-603746662ce0\" target=\"_top\" title=\"psysml:a2915c85-3e60-4cb8-ad5c-603746662ce0\" xlink:actuate=\"onRequest\" xlink:href=\"psysml:a2915c85-3e60-4cb8-ad5c-603746662ce0\" xlink:show=\"new\" xlink:title=\"psysml:a2915c85-3e60-4cb8-ad5c-603746662ce0\" xlink:type=\"simple\"><g id=\"elem_E3\"><rect fill=\"#FFFFFF\" height=\"48.6211\" id=\"E3\" rx=\"10\" ry=\"10\" style=\"stroke:#181818;stroke-width:0.5;\" width=\"108\" x=\"104\" y=\"334\"/><text fill=\"#000000\" font-family=\"sans-serif\" font-size=\"12\" font-style=\"italic\" lengthAdjust=\"spacing\" textLength=\"46\" x=\"135\" y=\"350.6016\">«action»</text><text fill=\"#000000\" font-family=\"sans-serif\" font-size=\"14\" lengthAdjust=\"spacing\" textLength=\"94\" x=\"107\" y=\"366.668\">^focus: Focus</text><line style=\"stroke:#181818;stroke-width:0.5;\" x1=\"105\" x2=\"211\" y1=\"374.6211\" y2=\"374.6211\"/></g></a><!--MD5=[ebbe1d658d1005bcc118a6aa81145e00]\n",
       "class E4--><a href=\"psysml:11624d69-c6d1-4adb-bf0d-74c417c73008\" target=\"_top\" title=\"psysml:11624d69-c6d1-4adb-bf0d-74c417c73008\" xlink:actuate=\"onRequest\" xlink:href=\"psysml:11624d69-c6d1-4adb-bf0d-74c417c73008\" xlink:show=\"new\" xlink:title=\"psysml:11624d69-c6d1-4adb-bf0d-74c417c73008\" xlink:type=\"simple\"><g id=\"elem_E4\"><rect fill=\"#FFFFFF\" height=\"48.6211\" id=\"E4\" rx=\"10\" ry=\"10\" style=\"stroke:#181818;stroke-width:0.5;\" width=\"110\" x=\"278\" y=\"334\"/><text fill=\"#000000\" font-family=\"sans-serif\" font-size=\"12\" font-style=\"italic\" lengthAdjust=\"spacing\" textLength=\"46\" x=\"310\" y=\"350.6016\">«action»</text><text fill=\"#000000\" font-family=\"sans-serif\" font-size=\"14\" lengthAdjust=\"spacing\" textLength=\"96\" x=\"281\" y=\"366.668\">^shoot: Shoot</text><line style=\"stroke:#181818;stroke-width:0.5;\" x1=\"279\" x2=\"387\" y1=\"374.6211\" y2=\"374.6211\"/></g></a><!--MD5=[270fce915f116d4de14055a7c1d9a0f3]\n",
       "class E5--><a href=\"psysml:bcce13f3-6d82-436e-af54-81a86a86f5c8\" target=\"_top\" title=\"psysml:bcce13f3-6d82-436e-af54-81a86a86f5c8\" xlink:actuate=\"onRequest\" xlink:href=\"psysml:bcce13f3-6d82-436e-af54-81a86a86f5c8\" xlink:show=\"new\" xlink:title=\"psysml:bcce13f3-6d82-436e-af54-81a86a86f5c8\" xlink:type=\"simple\"><g id=\"elem_E5\"><rect fill=\"#FFFFFF\" height=\"48.6211\" id=\"E5\" rx=\"10\" ry=\"10\" style=\"stroke:#181818;stroke-width:0.5;\" width=\"146\" x=\"7\" y=\"116\"/><text fill=\"#000000\" font-family=\"sans-serif\" font-size=\"12\" font-style=\"italic\" lengthAdjust=\"spacing\" textLength=\"36\" x=\"62\" y=\"132.6016\">«part»</text><text fill=\"#000000\" font-family=\"sans-serif\" font-size=\"14\" lengthAdjust=\"spacing\" textLength=\"132\" x=\"10\" y=\"148.668\">focusingSubsystem</text><line style=\"stroke:#181818;stroke-width:0.5;\" x1=\"8\" x2=\"152\" y1=\"156.6211\" y2=\"156.6211\"/></g></a><!--MD5=[60a26617385b1d2d0262a64233df1f8d]\n",
       "class E6--><a href=\"psysml:e00dac72-64fa-4383-a94f-7443ff708db5\" target=\"_top\" title=\"psysml:e00dac72-64fa-4383-a94f-7443ff708db5\" xlink:actuate=\"onRequest\" xlink:href=\"psysml:e00dac72-64fa-4383-a94f-7443ff708db5\" xlink:show=\"new\" xlink:title=\"psysml:e00dac72-64fa-4383-a94f-7443ff708db5\" xlink:type=\"simple\"><g id=\"elem_E6\"><rect fill=\"#FFFFFF\" height=\"48.6211\" id=\"E6\" rx=\"10\" ry=\"10\" style=\"stroke:#181818;stroke-width:0.5;\" width=\"61\" x=\"8.5\" y=\"225\"/><text fill=\"#000000\" font-family=\"sans-serif\" font-size=\"12\" font-style=\"italic\" lengthAdjust=\"spacing\" textLength=\"59\" x=\"9.5\" y=\"241.6016\">«perform»</text><text fill=\"#000000\" font-family=\"sans-serif\" font-size=\"14\" lengthAdjust=\"spacing\" textLength=\"37\" x=\"18.5\" y=\"257.668\">focus</text><line style=\"stroke:#181818;stroke-width:0.5;\" x1=\"9.5\" x2=\"68.5\" y1=\"265.6211\" y2=\"265.6211\"/></g></a><!--MD5=[2156ba9850f5573cc1fc38a6a4b2f02b]\n",
       "class E7--><a href=\"psysml:f83f2158-08af-4378-87f4-28cdd3fc5481\" target=\"_top\" title=\"psysml:f83f2158-08af-4378-87f4-28cdd3fc5481\" xlink:actuate=\"onRequest\" xlink:href=\"psysml:f83f2158-08af-4378-87f4-28cdd3fc5481\" xlink:show=\"new\" xlink:title=\"psysml:f83f2158-08af-4378-87f4-28cdd3fc5481\" xlink:type=\"simple\"><g id=\"elem_E7\"><rect fill=\"#FFFFFF\" height=\"48.6211\" id=\"E7\" rx=\"10\" ry=\"10\" style=\"stroke:#181818;stroke-width:0.5;\" width=\"143\" x=\"340.5\" y=\"116\"/><text fill=\"#000000\" font-family=\"sans-serif\" font-size=\"12\" font-style=\"italic\" lengthAdjust=\"spacing\" textLength=\"36\" x=\"394\" y=\"132.6016\">«part»</text><text fill=\"#000000\" font-family=\"sans-serif\" font-size=\"14\" lengthAdjust=\"spacing\" textLength=\"129\" x=\"343.5\" y=\"148.668\">imagingSubsystem</text><line style=\"stroke:#181818;stroke-width:0.5;\" x1=\"341.5\" x2=\"482.5\" y1=\"156.6211\" y2=\"156.6211\"/></g></a><!--MD5=[b9389687b975829384b498ac4b7476b2]\n",
       "class E8--><a href=\"psysml:be650ecc-71b5-4054-be79-2ba3c208f6ce\" target=\"_top\" title=\"psysml:be650ecc-71b5-4054-be79-2ba3c208f6ce\" xlink:actuate=\"onRequest\" xlink:href=\"psysml:be650ecc-71b5-4054-be79-2ba3c208f6ce\" xlink:show=\"new\" xlink:title=\"psysml:be650ecc-71b5-4054-be79-2ba3c208f6ce\" xlink:type=\"simple\"><g id=\"elem_E8\"><rect fill=\"#FFFFFF\" height=\"48.6211\" id=\"E8\" rx=\"10\" ry=\"10\" style=\"stroke:#181818;stroke-width:0.5;\" width=\"61\" x=\"422.5\" y=\"225\"/><text fill=\"#000000\" font-family=\"sans-serif\" font-size=\"12\" font-style=\"italic\" lengthAdjust=\"spacing\" textLength=\"59\" x=\"423.5\" y=\"241.6016\">«perform»</text><text fill=\"#000000\" font-family=\"sans-serif\" font-size=\"14\" lengthAdjust=\"spacing\" textLength=\"39\" x=\"431.5\" y=\"257.668\">shoot</text><line style=\"stroke:#181818;stroke-width:0.5;\" x1=\"423.5\" x2=\"482.5\" y1=\"265.6211\" y2=\"265.6211\"/></g></a><!--MD5=[a523cb2a0b79ecf9065ad8783f96c320]\n",
       "reverse link E1 to E2--><g id=\"link_E1_E2\"><a href=\"psysml:5f3182c0-ca51-40b7-b4c6-6746e2518c8c\" target=\"_top\" title=\"psysml:5f3182c0-ca51-40b7-b4c6-6746e2518c8c\" xlink:actuate=\"onRequest\" xlink:href=\"psysml:5f3182c0-ca51-40b7-b4c6-6746e2518c8c\" xlink:show=\"new\" xlink:title=\"psysml:5f3182c0-ca51-40b7-b4c6-6746e2518c8c\" xlink:type=\"simple\"><path d=\"M246,69.06 C246,113.44 246,187.01 246,224.67 \" fill=\"none\" id=\"E1-backto-E2\" style=\"stroke:#181818;stroke-width:1.0;\"/><polygon fill=\"none\" points=\"246,56.03,242,62.03,246,68.03,250,62.03,246,56.03\" style=\"stroke:#181818;stroke-width:1.0;\"/><text fill=\"#000000\" font-family=\"sans-serif\" font-size=\"13\" lengthAdjust=\"spacing\" textLength=\"6\" x=\"239.2688\" y=\"214.4419\">*</text></a></g><!--MD5=[209b3feb70ccb6233bfe1053d122c12c]\n",
       "reverse link E2 to E3--><g id=\"link_E2_E3\"><a href=\"psysml:a1ea25b8-3b2d-4ed1-b3fd-5168e1a19453\" target=\"_top\" title=\"psysml:a1ea25b8-3b2d-4ed1-b3fd-5168e1a19453\" xlink:actuate=\"onRequest\" xlink:href=\"psysml:a1ea25b8-3b2d-4ed1-b3fd-5168e1a19453\" xlink:show=\"new\" xlink:title=\"psysml:a1ea25b8-3b2d-4ed1-b3fd-5168e1a19453\" xlink:type=\"simple\"><path d=\"M218.16,284.35 C204.93,300.44 189.43,319.29 177.48,333.82 \" fill=\"none\" id=\"E2-backto-E3\" style=\"stroke:#181818;stroke-width:1.0;\"/><polygon fill=\"#181818\" points=\"226.47,274.25,219.5697,276.3443,218.8489,283.5192,225.7492,281.425,226.47,274.25\" style=\"stroke:#181818;stroke-width:1.0;\"/><text fill=\"#000000\" font-family=\"sans-serif\" font-size=\"13\" lengthAdjust=\"spacing\" textLength=\"8\" x=\"173.4467\" y=\"323.2306\">1</text></a></g><!--MD5=[9618e71518536f8baf3342ff6fdab317]\n",
       "reverse link E2 to E4--><g id=\"link_E2_E4\"><a href=\"psysml:7884c31f-598b-4f33-9bcb-0aa6a9c4632c\" target=\"_top\" title=\"psysml:7884c31f-598b-4f33-9bcb-0aa6a9c4632c\" xlink:actuate=\"onRequest\" xlink:href=\"psysml:7884c31f-598b-4f33-9bcb-0aa6a9c4632c\" xlink:show=\"new\" xlink:title=\"psysml:7884c31f-598b-4f33-9bcb-0aa6a9c4632c\" xlink:type=\"simple\"><path d=\"M273.52,284.35 C286.61,300.44 301.93,319.29 313.75,333.82 \" fill=\"none\" id=\"E2-backto-E4\" style=\"stroke:#181818;stroke-width:1.0;\"/><polygon fill=\"#181818\" points=\"265.31,274.25,265.9914,281.4288,272.8801,283.5609,272.1987,276.3821,265.31,274.25\" style=\"stroke:#181818;stroke-width:1.0;\"/><text fill=\"#000000\" font-family=\"sans-serif\" font-size=\"13\" lengthAdjust=\"spacing\" textLength=\"8\" x=\"299.7922\" y=\"323.2306\">1</text></a></g><!--MD5=[33238bef88d6431a141d8bc8fb12bca0]\n",
       "reverse link E1 to E5--><g id=\"link_E1_E5\"><a href=\"psysml:54b2e499-261c-44cf-824b-a76ab63c343c\" target=\"_top\" title=\"psysml:54b2e499-261c-44cf-824b-a76ab63c343c\" xlink:actuate=\"onRequest\" xlink:href=\"psysml:54b2e499-261c-44cf-824b-a76ab63c343c\" xlink:show=\"new\" xlink:title=\"psysml:54b2e499-261c-44cf-824b-a76ab63c343c\" xlink:type=\"simple\"><path d=\"M202.23,60.71 C175.51,77.94 141.75,99.7 116.48,115.99 \" fill=\"none\" id=\"E1-backto-E5\" style=\"stroke:#181818;stroke-width:1.0;\"/><polygon fill=\"#181818\" points=\"213.2,53.64,205.9898,53.5279,203.1131,60.1404,210.3234,60.2525,213.2,53.64\" style=\"stroke:#181818;stroke-width:1.0;\"/><text fill=\"#000000\" font-family=\"sans-serif\" font-size=\"13\" lengthAdjust=\"spacing\" textLength=\"8\" x=\"116.803\" y=\"105.4441\">1</text></a></g><!--MD5=[85d356282659285ab4b2cfe2f634dd2b]\n",
       "reverse link E5 to E6--><g id=\"link_E5_E6\"><a href=\"psysml:6d3b75aa-4547-4792-916d-f44b87396e49\" target=\"_top\" title=\"psysml:6d3b75aa-4547-4792-916d-f44b87396e49\" xlink:actuate=\"onRequest\" xlink:href=\"psysml:6d3b75aa-4547-4792-916d-f44b87396e49\" xlink:show=\"new\" xlink:title=\"psysml:6d3b75aa-4547-4792-916d-f44b87396e49\" xlink:type=\"simple\"><path d=\"M66.14,177.67 C60.18,193.23 53.38,210.98 48.07,224.82 \" fill=\"none\" id=\"E5-backto-E6\" style=\"stroke:#181818;stroke-width:1.0;\"/><polygon fill=\"none\" points=\"70.9,165.25,65.021,169.4258,66.6144,176.4586,72.4934,172.2829,70.9,165.25\" style=\"stroke:#181818;stroke-width:1.0;\"/><text fill=\"#000000\" font-family=\"sans-serif\" font-size=\"13\" lengthAdjust=\"spacing\" textLength=\"22\" x=\"25.5754\" y=\"214.2306\">1..*</text></a></g><!--MD5=[a717450b82c80b9240a525fa862496af]\n",
       "link E6 to E3--><g id=\"link_E6_E3\"><a href=\"psysml:90b22e10-497a-4c7c-8dec-a004f1b7c619\" target=\"_top\" title=\"psysml:90b22e10-497a-4c7c-8dec-a004f1b7c619\" xlink:actuate=\"onRequest\" xlink:href=\"psysml:90b22e10-497a-4c7c-8dec-a004f1b7c619\" xlink:show=\"new\" xlink:title=\"psysml:90b22e10-497a-4c7c-8dec-a004f1b7c619\" xlink:type=\"simple\"><path d=\"M65.41,274.25 C80.43,287.75 99.58,304.97 116.56,320.24 \" fill=\"none\" id=\"E6-to-E3\" style=\"stroke:#181818;stroke-width:1.0;\"/><polygon fill=\"none\" points=\"121.47,315.24,131.66,333.82,112.11,325.65,121.47,315.24\" style=\"stroke:#181818;stroke-width:1.0;\"/></a></g><!--MD5=[fc9706a6b2cf8c0e423679d303750d3f]\n",
       "reverse link E1 to E7--><g id=\"link_E1_E7\"><a href=\"psysml:6c1721ff-482b-4fbe-9e7c-069f94ad953f\" target=\"_top\" title=\"psysml:6c1721ff-482b-4fbe-9e7c-069f94ad953f\" xlink:actuate=\"onRequest\" xlink:href=\"psysml:6c1721ff-482b-4fbe-9e7c-069f94ad953f\" xlink:show=\"new\" xlink:title=\"psysml:6c1721ff-482b-4fbe-9e7c-069f94ad953f\" xlink:type=\"simple\"><path d=\"M289.77,60.71 C316.49,77.94 350.25,99.7 375.52,115.99 \" fill=\"none\" id=\"E1-backto-E7\" style=\"stroke:#181818;stroke-width:1.0;\"/><polygon fill=\"#181818\" points=\"278.8,53.64,281.6766,60.2525,288.8869,60.1404,286.0102,53.5279,278.8,53.64\" style=\"stroke:#181818;stroke-width:1.0;\"/><text fill=\"#000000\" font-family=\"sans-serif\" font-size=\"13\" lengthAdjust=\"spacing\" textLength=\"8\" x=\"357.147\" y=\"105.4441\">1</text></a></g><!--MD5=[dc164f5e8a733ab456ef1add180e9e34]\n",
       "reverse link E7 to E8--><g id=\"link_E7_E8\"><a href=\"psysml:02fb6ccf-2135-49da-b19c-c9ac284579d8\" target=\"_top\" title=\"psysml:02fb6ccf-2135-49da-b19c-c9ac284579d8\" xlink:actuate=\"onRequest\" xlink:href=\"psysml:02fb6ccf-2135-49da-b19c-c9ac284579d8\" xlink:show=\"new\" xlink:title=\"psysml:02fb6ccf-2135-49da-b19c-c9ac284579d8\" xlink:type=\"simple\"><path d=\"M425.86,177.67 C431.82,193.23 438.62,210.98 443.93,224.82 \" fill=\"none\" id=\"E7-backto-E8\" style=\"stroke:#181818;stroke-width:1.0;\"/><polygon fill=\"none\" points=\"421.1,165.25,419.5066,172.2829,425.3856,176.4586,426.979,169.4258,421.1,165.25\" style=\"stroke:#181818;stroke-width:1.0;\"/><text fill=\"#000000\" font-family=\"sans-serif\" font-size=\"13\" lengthAdjust=\"spacing\" textLength=\"22\" x=\"416.7871\" y=\"214.2306\">1..*</text></a></g><!--MD5=[d7bb3fb34add81b710575eb3799fa2ad]\n",
       "link E8 to E4--><g id=\"link_E8_E4\"><a href=\"psysml:9bacb5e7-569f-4164-ab6f-9c400bd7413d\" target=\"_top\" title=\"psysml:9bacb5e7-569f-4164-ab6f-9c400bd7413d\" xlink:actuate=\"onRequest\" xlink:href=\"psysml:9bacb5e7-569f-4164-ab6f-9c400bd7413d\" xlink:show=\"new\" xlink:title=\"psysml:9bacb5e7-569f-4164-ab6f-9c400bd7413d\" xlink:type=\"simple\"><path d=\"M426.37,274.25 C411.14,287.82 391.71,305.15 374.53,320.47 \" fill=\"none\" id=\"E8-to-E4\" style=\"stroke:#181818;stroke-width:1.0;\"/><polygon fill=\"none\" points=\"379.14,325.73,359.56,333.82,369.83,315.28,379.14,325.73\" style=\"stroke:#181818;stroke-width:1.0;\"/></a></g><!--MD5=[857ebac9589e6f4fdc456cf0913f1c52]\n",
       "@startuml\r\n",
       "skin sysmlbw\r\n",
       "skinparam monochrome true\r\n",
       "skinparam wrapWidth 300\r\n",
       "hide circle\r\n",
       "\r\n",
       "comp def \"Camera\" as E1  <<(T,blue) part  def>> [[psysml:b8b785b2-007b-411d-a641-a65be58019c9 ]] {\r\n",
       "}\r\n",
       "comp usage \"takePicture :>PictureTaking::takePicture \" as E2  << perform action>> [[psysml:f1ebac09-b5d2-4c14-a86f-fbd3ecaa0ed4 ]] {\r\n",
       "}\r\n",
       "comp usage \"^focus: Focus  \" as E3  <<(T,blue) action>> [[psysml:a2915c85-3e60-4cb8-ad5c-603746662ce0 ]] {\r\n",
       "}\r\n",
       "comp usage \"^shoot: Shoot  \" as E4  <<(T,blue) action>> [[psysml:11624d69-c6d1-4adb-bf0d-74c417c73008 ]] {\r\n",
       "}\r\n",
       "comp usage \"focusingSubsystem  \" as E5  <<(T,blue) part>> [[psysml:bcce13f3-6d82-436e-af54-81a86a86f5c8 ]] {\r\n",
       "}\r\n",
       "comp usage \"focus \" as E6  << perform>> [[psysml:e00dac72-64fa-4383-a94f-7443ff708db5 ]] {\r\n",
       "}\r\n",
       "comp usage \"imagingSubsystem  \" as E7  <<(T,blue) part>> [[psysml:f83f2158-08af-4378-87f4-28cdd3fc5481 ]] {\r\n",
       "}\r\n",
       "comp usage \"shoot \" as E8  << perform>> [[psysml:be650ecc-71b5-4054-be79-2ba3c208f6ce ]] {\r\n",
       "}\r\n",
       "E1 o- - \"*\"E2 [[psysml:5f3182c0-ca51-40b7-b4c6-6746e2518c8c ]] \r\n",
       "E2 *- - \"1\"E3 [[psysml:a1ea25b8-3b2d-4ed1-b3fd-5168e1a19453 ]] \r\n",
       "E2 *- - \"1\"E4 [[psysml:7884c31f-598b-4f33-9bcb-0aa6a9c4632c ]] \r\n",
       "E1 *- - \"1\"E5 [[psysml:54b2e499-261c-44cf-824b-a76ab63c343c ]] \r\n",
       "E5 o- - \"1..*\"E6 [[psysml:6d3b75aa-4547-4792-916d-f44b87396e49 ]] \r\n",
       "E6 - -|> E3 [[psysml:90b22e10-497a-4c7c-8dec-a004f1b7c619 ]] \r\n",
       "E1 *- - \"1\"E7 [[psysml:6c1721ff-482b-4fbe-9e7c-069f94ad953f ]] \r\n",
       "E7 o- - \"1..*\"E8 [[psysml:02fb6ccf-2135-49da-b19c-c9ac284579d8 ]] \r\n",
       "E8 - -|> E4 [[psysml:9bacb5e7-569f-4164-ab6f-9c400bd7413d ]] \r\n",
       "@enduml\r\n",
       "\n",
       "PlantUML version 1.2022.7(Mon Aug 22 13:01:30 EDT 2022)\n",
       "(EPL source distribution)\n",
       "Java Runtime: OpenJDK Runtime Environment\n",
       "JVM: OpenJDK 64-Bit Server VM\n",
       "Default Encoding: UTF-8\n",
       "Language: en\n",
       "Country: US\n",
       "--></g></svg>"
      ]
     },
     "execution_count": 5,
     "metadata": {},
     "output_type": "execute_result"
    }
   ],
   "source": [
    "%viz --view=Tree Camera"
   ]
  },
  {
   "cell_type": "code",
   "execution_count": null,
   "id": "58018da4",
   "metadata": {},
   "outputs": [],
   "source": []
  }
 ],
 "metadata": {
  "kernelspec": {
   "display_name": "SysML",
   "language": "sysml",
   "name": "sysml"
  },
  "language_info": {
   "codemirror_mode": "sysml",
   "file_extension": ".sysml",
   "mimetype": "text/x-sysml",
   "name": "SysML",
   "pygments_lexer": "java",
   "version": "1.0.0"
  }
 },
 "nbformat": 4,
 "nbformat_minor": 5
}
