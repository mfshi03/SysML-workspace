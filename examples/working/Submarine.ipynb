{
 "cells": [
  {
   "cell_type": "code",
   "execution_count": 3,
   "id": "85d11397",
   "metadata": {},
   "outputs": [
    {
     "data": {
      "text/plain": [
       "Package Detection (52ba83e4-372a-496d-b3bc-968a08396c1c)\n"
      ]
     },
     "execution_count": 3,
     "metadata": {},
     "output_type": "execute_result"
    }
   ],
   "source": [
    "package Detection {\n",
    "\tpart def Exposure;\n",
    "\t\n",
    "\taction def Focus { out xrsl: Exposure; }\n",
    "\taction def Shoot { in xsf: Exposure; }\t\n",
    "\t\t\n",
    "\taction takePicture {\t\t\n",
    "\t\taction focus: Focus[1];\n",
    "\t\tflow focus.xrsl to shoot.xsf;\n",
    "\t\taction shoot: Shoot[1];\n",
    "\t}\n",
    "}"
   ]
  },
  {
   "cell_type": "code",
   "execution_count": 4,
   "id": "173bde8e",
   "metadata": {},
   "outputs": [
    {
     "data": {
      "text/plain": [
       "Package SubmarineDetectionSystem (c37f7908-8f1f-4644-942b-06e46e888648)\n"
      ]
     },
     "execution_count": 4,
     "metadata": {},
     "output_type": "execute_result"
    }
   ],
   "source": [
    "package SubmarineDetectionSystem {\n",
    "\timport Detection::*;\n",
    "    perform action takePicture[*] :> Detection::takePicture;\n",
    "\n",
    "    part def Sensors {\n",
    "        part sonar: Sonar;\n",
    "        part radar: Radar;\n",
    "    }\n",
    "    \n",
    "    part def Sonar {\n",
    "        // Other sonar specific attributes\n",
    "    }\n",
    "\n",
    "    part def Radar {\n",
    "        // Radar specific attributes\n",
    "    }\n",
    "\n",
    "    part def DataProcessingUnit {\n",
    "        // Attributes and operations for data processing\n",
    "    }\n",
    "\n",
    "    part def CommunicationSystem {\n",
    "        // Attributes and operations for communication\n",
    "    }\n",
    "\n",
    "    part def PowerSupply {\n",
    "        // Attributes for power supply specifications\n",
    "    }\n",
    "\n",
    "    part def UserInterface {\n",
    "        // Attributes for user interface components\n",
    "    }\n",
    "\n",
    "}\n"
   ]
  },
  {
   "cell_type": "code",
   "execution_count": 5,
   "id": "0328dfa1",
   "metadata": {},
   "outputs": [
    {
     "data": {
      "image/svg+xml": [
       "<?xml version=\"1.0\" encoding=\"UTF-8\" standalone=\"no\"?><svg xmlns=\"http://www.w3.org/2000/svg\" xmlns:xlink=\"http://www.w3.org/1999/xlink\" contentStyleType=\"text/css\" height=\"331px\" preserveAspectRatio=\"none\" style=\"width:1054px;height:331px;background:#FFFFFF;\" version=\"1.1\" viewBox=\"0 0 1054 331\" width=\"1054px\" zoomAndPan=\"magnify\"><defs/><g><!--MD5=[fbc87193dbaf4d95561dea2c320d4a47]\n",
       "cluster E1--><g id=\"cluster_E1\"><a href=\"psysml:c37f7908-8f1f-4644-942b-06e46e888648\" target=\"_top\" title=\"psysml:c37f7908-8f1f-4644-942b-06e46e888648\" xlink:actuate=\"onRequest\" xlink:href=\"psysml:c37f7908-8f1f-4644-942b-06e46e888648\" xlink:show=\"new\" xlink:title=\"psysml:c37f7908-8f1f-4644-942b-06e46e888648\" xlink:type=\"simple\"><polygon fill=\"none\" points=\"16,6,219,6,226,28.4883,1037,28.4883,1037,324,16,324,16,6\" style=\"stroke:#000000;stroke-width:1.5;\"/><line style=\"stroke:#000000;stroke-width:1.5;\" x1=\"16\" x2=\"226\" y1=\"28.4883\" y2=\"28.4883\"/><text fill=\"#000000\" font-family=\"sans-serif\" font-size=\"14\" font-weight=\"bold\" lengthAdjust=\"spacing\" textLength=\"197\" x=\"20\" y=\"21.5352\">SubmarineDetectionSystem</text></a></g><!--MD5=[b4997ac47864f28c2f74865a473b2911]\n",
       "class E2--><a href=\"psysml:9903fb26-2771-4ffa-b1fd-ddde1c4b13d4\" target=\"_top\" title=\"psysml:9903fb26-2771-4ffa-b1fd-ddde1c4b13d4\" xlink:actuate=\"onRequest\" xlink:href=\"psysml:9903fb26-2771-4ffa-b1fd-ddde1c4b13d4\" xlink:show=\"new\" xlink:title=\"psysml:9903fb26-2771-4ffa-b1fd-ddde1c4b13d4\" xlink:type=\"simple\"><g id=\"elem_E2\"><rect fill=\"#FFFFFF\" height=\"48.6211\" id=\"E2\" rx=\"10\" ry=\"10\" style=\"stroke:#181818;stroke-width:0.5;\" width=\"254\" x=\"767\" y=\"41\"/><text fill=\"#000000\" font-family=\"sans-serif\" font-size=\"12\" font-style=\"italic\" lengthAdjust=\"spacing\" textLength=\"97\" x=\"845.5\" y=\"57.6016\">«perform action»</text><text fill=\"#000000\" font-family=\"sans-serif\" font-size=\"14\" lengthAdjust=\"spacing\" textLength=\"244\" x=\"770\" y=\"73.668\">takePicture :&gt;Detection::takePicture</text><line style=\"stroke:#181818;stroke-width:0.5;\" x1=\"768\" x2=\"1020\" y1=\"81.6211\" y2=\"81.6211\"/></g></a><!--MD5=[09b614a08d8cba4a07c9adeb5e0fee81]\n",
       "class E3--><a href=\"psysml:b4f7b3d4-e9df-42e9-93bd-ed1c11140692\" target=\"_top\" title=\"psysml:b4f7b3d4-e9df-42e9-93bd-ed1c11140692\" xlink:actuate=\"onRequest\" xlink:href=\"psysml:b4f7b3d4-e9df-42e9-93bd-ed1c11140692\" xlink:show=\"new\" xlink:title=\"psysml:b4f7b3d4-e9df-42e9-93bd-ed1c11140692\" xlink:type=\"simple\"><g id=\"elem_E3\"><rect fill=\"#FFFFFF\" height=\"48.6211\" id=\"E3\" style=\"stroke:#181818;stroke-width:0.5;\" width=\"65\" x=\"666.5\" y=\"41\"/><text fill=\"#000000\" font-family=\"sans-serif\" font-size=\"12\" font-style=\"italic\" lengthAdjust=\"spacing\" textLength=\"63\" x=\"667.5\" y=\"57.6016\">«part  def»</text><text fill=\"#000000\" font-family=\"sans-serif\" font-size=\"14\" lengthAdjust=\"spacing\" textLength=\"54\" x=\"672\" y=\"73.668\">Sensors</text><line style=\"stroke:#181818;stroke-width:0.5;\" x1=\"667.5\" x2=\"730.5\" y1=\"81.6211\" y2=\"81.6211\"/></g></a><!--MD5=[ebbe1d658d1005bcc118a6aa81145e00]\n",
       "class E4--><a href=\"psysml:e2f2dd88-aa42-4f64-a06b-4ce16f372c88\" target=\"_top\" title=\"psysml:e2f2dd88-aa42-4f64-a06b-4ce16f372c88\" xlink:actuate=\"onRequest\" xlink:href=\"psysml:e2f2dd88-aa42-4f64-a06b-4ce16f372c88\" xlink:show=\"new\" xlink:title=\"psysml:e2f2dd88-aa42-4f64-a06b-4ce16f372c88\" xlink:type=\"simple\"><g id=\"elem_E4\"><rect fill=\"#FFFFFF\" height=\"48.6211\" id=\"E4\" rx=\"10\" ry=\"10\" style=\"stroke:#181818;stroke-width:0.5;\" width=\"101\" x=\"580.5\" y=\"150\"/><text fill=\"#000000\" font-family=\"sans-serif\" font-size=\"12\" font-style=\"italic\" lengthAdjust=\"spacing\" textLength=\"36\" x=\"613\" y=\"166.6016\">«part»</text><text fill=\"#000000\" font-family=\"sans-serif\" font-size=\"14\" lengthAdjust=\"spacing\" textLength=\"87\" x=\"583.5\" y=\"182.668\">sonar: Sonar</text><line style=\"stroke:#181818;stroke-width:0.5;\" x1=\"581.5\" x2=\"680.5\" y1=\"190.6211\" y2=\"190.6211\"/></g></a><!--MD5=[270fce915f116d4de14055a7c1d9a0f3]\n",
       "class E5--><a href=\"psysml:7941b7c9-5c4b-45a2-8e7a-aa2428db5cbc\" target=\"_top\" title=\"psysml:7941b7c9-5c4b-45a2-8e7a-aa2428db5cbc\" xlink:actuate=\"onRequest\" xlink:href=\"psysml:7941b7c9-5c4b-45a2-8e7a-aa2428db5cbc\" xlink:show=\"new\" xlink:title=\"psysml:7941b7c9-5c4b-45a2-8e7a-aa2428db5cbc\" xlink:type=\"simple\"><g id=\"elem_E5\"><rect fill=\"#FFFFFF\" height=\"48.6211\" id=\"E5\" rx=\"10\" ry=\"10\" style=\"stroke:#181818;stroke-width:0.5;\" width=\"99\" x=\"716.5\" y=\"150\"/><text fill=\"#000000\" font-family=\"sans-serif\" font-size=\"12\" font-style=\"italic\" lengthAdjust=\"spacing\" textLength=\"36\" x=\"748\" y=\"166.6016\">«part»</text><text fill=\"#000000\" font-family=\"sans-serif\" font-size=\"14\" lengthAdjust=\"spacing\" textLength=\"85\" x=\"719.5\" y=\"182.668\">radar: Radar</text><line style=\"stroke:#181818;stroke-width:0.5;\" x1=\"717.5\" x2=\"814.5\" y1=\"190.6211\" y2=\"190.6211\"/></g></a><!--MD5=[60a26617385b1d2d0262a64233df1f8d]\n",
       "class E6--><a href=\"psysml:d3361fba-91b1-43c0-8fa8-be4fccdbf267\" target=\"_top\" title=\"psysml:d3361fba-91b1-43c0-8fa8-be4fccdbf267\" xlink:actuate=\"onRequest\" xlink:href=\"psysml:d3361fba-91b1-43c0-8fa8-be4fccdbf267\" xlink:show=\"new\" xlink:title=\"psysml:d3361fba-91b1-43c0-8fa8-be4fccdbf267\" xlink:type=\"simple\"><g id=\"elem_E6\"><rect fill=\"#FFFFFF\" height=\"48.6211\" id=\"E6\" style=\"stroke:#181818;stroke-width:0.5;\" width=\"65\" x=\"598.5\" y=\"259\"/><text fill=\"#000000\" font-family=\"sans-serif\" font-size=\"12\" font-style=\"italic\" lengthAdjust=\"spacing\" textLength=\"63\" x=\"599.5\" y=\"275.6016\">«part  def»</text><text fill=\"#000000\" font-family=\"sans-serif\" font-size=\"14\" lengthAdjust=\"spacing\" textLength=\"40\" x=\"611\" y=\"291.668\">Sonar</text><line style=\"stroke:#181818;stroke-width:0.5;\" x1=\"599.5\" x2=\"662.5\" y1=\"299.6211\" y2=\"299.6211\"/></g></a><!--MD5=[2156ba9850f5573cc1fc38a6a4b2f02b]\n",
       "class E7--><a href=\"psysml:70c862dd-9e0e-47fd-b549-f0f3ed3feed9\" target=\"_top\" title=\"psysml:70c862dd-9e0e-47fd-b549-f0f3ed3feed9\" xlink:actuate=\"onRequest\" xlink:href=\"psysml:70c862dd-9e0e-47fd-b549-f0f3ed3feed9\" xlink:show=\"new\" xlink:title=\"psysml:70c862dd-9e0e-47fd-b549-f0f3ed3feed9\" xlink:type=\"simple\"><g id=\"elem_E7\"><rect fill=\"#FFFFFF\" height=\"48.6211\" id=\"E7\" style=\"stroke:#181818;stroke-width:0.5;\" width=\"65\" x=\"733.5\" y=\"259\"/><text fill=\"#000000\" font-family=\"sans-serif\" font-size=\"12\" font-style=\"italic\" lengthAdjust=\"spacing\" textLength=\"63\" x=\"734.5\" y=\"275.6016\">«part  def»</text><text fill=\"#000000\" font-family=\"sans-serif\" font-size=\"14\" lengthAdjust=\"spacing\" textLength=\"40\" x=\"746\" y=\"291.668\">Radar</text><line style=\"stroke:#181818;stroke-width:0.5;\" x1=\"734.5\" x2=\"797.5\" y1=\"299.6211\" y2=\"299.6211\"/></g></a><!--MD5=[b9389687b975829384b498ac4b7476b2]\n",
       "class E8--><a href=\"psysml:b1f66938-bfd1-4cc9-9380-6e3fba4a43de\" target=\"_top\" title=\"psysml:b1f66938-bfd1-4cc9-9380-6e3fba4a43de\" xlink:actuate=\"onRequest\" xlink:href=\"psysml:b1f66938-bfd1-4cc9-9380-6e3fba4a43de\" xlink:show=\"new\" xlink:title=\"psysml:b1f66938-bfd1-4cc9-9380-6e3fba4a43de\" xlink:type=\"simple\"><g id=\"elem_E8\"><rect fill=\"#FFFFFF\" height=\"48.6211\" id=\"E8\" style=\"stroke:#181818;stroke-width:0.5;\" width=\"139\" x=\"492.5\" y=\"41\"/><text fill=\"#000000\" font-family=\"sans-serif\" font-size=\"12\" font-style=\"italic\" lengthAdjust=\"spacing\" textLength=\"63\" x=\"530.5\" y=\"57.6016\">«part  def»</text><text fill=\"#000000\" font-family=\"sans-serif\" font-size=\"14\" lengthAdjust=\"spacing\" textLength=\"133\" x=\"495.5\" y=\"73.668\">DataProcessingUnit</text><line style=\"stroke:#181818;stroke-width:0.5;\" x1=\"493.5\" x2=\"630.5\" y1=\"81.6211\" y2=\"81.6211\"/></g></a><!--MD5=[fd4143e9d270a159db93a4ea2a975926]\n",
       "class E9--><a href=\"psysml:34e315f1-d537-4555-87c1-461fb191813a\" target=\"_top\" title=\"psysml:34e315f1-d537-4555-87c1-461fb191813a\" xlink:actuate=\"onRequest\" xlink:href=\"psysml:34e315f1-d537-4555-87c1-461fb191813a\" xlink:show=\"new\" xlink:title=\"psysml:34e315f1-d537-4555-87c1-461fb191813a\" xlink:type=\"simple\"><g id=\"elem_E9\"><rect fill=\"#FFFFFF\" height=\"48.6211\" id=\"E9\" style=\"stroke:#181818;stroke-width:0.5;\" width=\"163\" x=\"294.5\" y=\"41\"/><text fill=\"#000000\" font-family=\"sans-serif\" font-size=\"12\" font-style=\"italic\" lengthAdjust=\"spacing\" textLength=\"63\" x=\"344.5\" y=\"57.6016\">«part  def»</text><text fill=\"#000000\" font-family=\"sans-serif\" font-size=\"14\" lengthAdjust=\"spacing\" textLength=\"157\" x=\"297.5\" y=\"73.668\">CommunicationSystem</text><line style=\"stroke:#181818;stroke-width:0.5;\" x1=\"295.5\" x2=\"456.5\" y1=\"81.6211\" y2=\"81.6211\"/></g></a><!--MD5=[96f4274e9e20536e775497830990834d]\n",
       "class E10--><a href=\"psysml:7f3b6d14-0cd2-4621-ba55-4faac6f35c96\" target=\"_top\" title=\"psysml:7f3b6d14-0cd2-4621-ba55-4faac6f35c96\" xlink:actuate=\"onRequest\" xlink:href=\"psysml:7f3b6d14-0cd2-4621-ba55-4faac6f35c96\" xlink:show=\"new\" xlink:title=\"psysml:7f3b6d14-0cd2-4621-ba55-4faac6f35c96\" xlink:type=\"simple\"><g id=\"elem_E10\"><rect fill=\"#FFFFFF\" height=\"48.6211\" id=\"E10\" style=\"stroke:#181818;stroke-width:0.5;\" width=\"94\" x=\"165\" y=\"41\"/><text fill=\"#000000\" font-family=\"sans-serif\" font-size=\"12\" font-style=\"italic\" lengthAdjust=\"spacing\" textLength=\"63\" x=\"180.5\" y=\"57.6016\">«part  def»</text><text fill=\"#000000\" font-family=\"sans-serif\" font-size=\"14\" lengthAdjust=\"spacing\" textLength=\"88\" x=\"168\" y=\"73.668\">PowerSupply</text><line style=\"stroke:#181818;stroke-width:0.5;\" x1=\"166\" x2=\"258\" y1=\"81.6211\" y2=\"81.6211\"/></g></a><!--MD5=[1dd1bfd58a279cf63c5f349dbc8fc6a1]\n",
       "class E11--><a href=\"psysml:6becd74d-4196-477a-ba92-46e37355c8ea\" target=\"_top\" title=\"psysml:6becd74d-4196-477a-ba92-46e37355c8ea\" xlink:actuate=\"onRequest\" xlink:href=\"psysml:6becd74d-4196-477a-ba92-46e37355c8ea\" xlink:show=\"new\" xlink:title=\"psysml:6becd74d-4196-477a-ba92-46e37355c8ea\" xlink:type=\"simple\"><g id=\"elem_E11\"><rect fill=\"#FFFFFF\" height=\"48.6211\" id=\"E11\" style=\"stroke:#181818;stroke-width:0.5;\" width=\"97\" x=\"32.5\" y=\"41\"/><text fill=\"#000000\" font-family=\"sans-serif\" font-size=\"12\" font-style=\"italic\" lengthAdjust=\"spacing\" textLength=\"63\" x=\"49.5\" y=\"57.6016\">«part  def»</text><text fill=\"#000000\" font-family=\"sans-serif\" font-size=\"14\" lengthAdjust=\"spacing\" textLength=\"91\" x=\"35.5\" y=\"73.668\">UserInterface</text><line style=\"stroke:#181818;stroke-width:0.5;\" x1=\"33.5\" x2=\"128.5\" y1=\"81.6211\" y2=\"81.6211\"/></g></a><!--MD5=[4672eba38e49728da53d11aeb285b987]\n",
       "reverse link E3 to E4--><g id=\"link_E3_E4\"><a href=\"psysml:e3095fbf-e833-417e-8378-e4ec21d1c568\" target=\"_top\" title=\"psysml:e3095fbf-e833-417e-8378-e4ec21d1c568\" xlink:actuate=\"onRequest\" xlink:href=\"psysml:e3095fbf-e833-417e-8378-e4ec21d1c568\" xlink:show=\"new\" xlink:title=\"psysml:e3095fbf-e833-417e-8378-e4ec21d1c568\" xlink:type=\"simple\"><path d=\"M676.9,101.27 C666.81,117.16 655.11,135.56 646.05,149.82 \" fill=\"none\" id=\"E3-backto-E4\" style=\"stroke:#181818;stroke-width:1.0;\"/><polygon fill=\"#181818\" points=\"683.91,90.25,677.3161,93.1689,677.4743,100.3783,684.0683,97.4594,683.91,90.25\" style=\"stroke:#181818;stroke-width:1.0;\"/><text fill=\"#000000\" font-family=\"sans-serif\" font-size=\"13\" lengthAdjust=\"spacing\" textLength=\"8\" x=\"640.8816\" y=\"139.2306\">1</text></a></g><!--MD5=[191cde3d490a3f6d7bb551fe3ddca469]\n",
       "reverse link E3 to E5--><g id=\"link_E3_E5\"><a href=\"psysml:52feb32a-84ff-4b1e-ab33-5dd089543ab1\" target=\"_top\" title=\"psysml:52feb32a-84ff-4b1e-ab33-5dd089543ab1\" xlink:actuate=\"onRequest\" xlink:href=\"psysml:52feb32a-84ff-4b1e-ab33-5dd089543ab1\" xlink:show=\"new\" xlink:title=\"psysml:52feb32a-84ff-4b1e-ab33-5dd089543ab1\" xlink:type=\"simple\"><path d=\"M720.77,101.27 C730.72,117.16 742.25,135.56 751.17,149.82 \" fill=\"none\" id=\"E3-backto-E5\" style=\"stroke:#181818;stroke-width:1.0;\"/><polygon fill=\"#181818\" points=\"713.87,90.25,713.6614,97.4581,720.2347,100.423,720.4434,93.2149,713.87,90.25\" style=\"stroke:#181818;stroke-width:1.0;\"/><text fill=\"#000000\" font-family=\"sans-serif\" font-size=\"13\" lengthAdjust=\"spacing\" textLength=\"8\" x=\"738.3448\" y=\"139.2306\">1</text></a></g><!--MD5=[79568f1e445c3877b6a54524624ccc7d]\n",
       "link E4 to E6--><g id=\"link_E4_E6\"><a href=\"psysml:923ea226-6776-4f63-abac-02fb6f4828d5\" target=\"_top\" title=\"psysml:923ea226-6776-4f63-abac-02fb6f4828d5\" xlink:actuate=\"onRequest\" xlink:href=\"psysml:923ea226-6776-4f63-abac-02fb6f4828d5\" xlink:show=\"new\" xlink:title=\"psysml:923ea226-6776-4f63-abac-02fb6f4828d5\" xlink:type=\"simple\"><path d=\"M631,199.25 C631,210.88 631,225.27 631,238.8 \" fill=\"none\" id=\"E4-to-E6\" style=\"stroke:#181818;stroke-width:1.0;\"/><polygon fill=\"#FFFFFF\" points=\"631,258.82,624,239.82,638,239.82,631,258.82\" style=\"stroke:#181818;stroke-width:1.0;\"/><ellipse cx=\"626\" cy=\"234.12\" fill=\"#181818\" rx=\"2\" ry=\"2\" style=\"stroke:#181818;stroke-width:1.0;\"/><ellipse cx=\"636\" cy=\"234.12\" fill=\"#181818\" rx=\"2\" ry=\"2\" style=\"stroke:#181818;stroke-width:1.0;\"/></a></g><!--MD5=[3a9b96bfbf6b6ad89c494e81751bda47]\n",
       "link E5 to E7--><g id=\"link_E5_E7\"><a href=\"psysml:d255f99e-1107-4622-979a-e0757bd93ae7\" target=\"_top\" title=\"psysml:d255f99e-1107-4622-979a-e0757bd93ae7\" xlink:actuate=\"onRequest\" xlink:href=\"psysml:d255f99e-1107-4622-979a-e0757bd93ae7\" xlink:show=\"new\" xlink:title=\"psysml:d255f99e-1107-4622-979a-e0757bd93ae7\" xlink:type=\"simple\"><path d=\"M766,199.25 C766,210.88 766,225.27 766,238.8 \" fill=\"none\" id=\"E5-to-E7\" style=\"stroke:#181818;stroke-width:1.0;\"/><polygon fill=\"#FFFFFF\" points=\"766,258.82,759,239.82,773,239.82,766,258.82\" style=\"stroke:#181818;stroke-width:1.0;\"/><ellipse cx=\"761\" cy=\"234.12\" fill=\"#181818\" rx=\"2\" ry=\"2\" style=\"stroke:#181818;stroke-width:1.0;\"/><ellipse cx=\"771\" cy=\"234.12\" fill=\"#181818\" rx=\"2\" ry=\"2\" style=\"stroke:#181818;stroke-width:1.0;\"/></a></g><!--MD5=[e3ef28f9c65a01d3964b0f4607998d91]\n",
       "@startuml\r\n",
       "skin sysmlbw\r\n",
       "skinparam monochrome true\r\n",
       "skinparam wrapWidth 300\r\n",
       "hide circle\r\n",
       "\r\n",
       "package \"SubmarineDetectionSystem\" as E1  [[psysml:c37f7908-8f1f-4644-942b-06e46e888648 ]]  {\r\n",
       "comp usage \"takePicture :>Detection::takePicture \" as E2  << perform action>> [[psysml:9903fb26-2771-4ffa-b1fd-ddde1c4b13d4 ]] {\r\n",
       "}\r\n",
       "comp def \"Sensors\" as E3  <<(T,blue) part  def>> [[psysml:b4f7b3d4-e9df-42e9-93bd-ed1c11140692 ]] {\r\n",
       "}\r\n",
       "comp usage \"sonar: Sonar  \" as E4  <<(T,blue) part>> [[psysml:e2f2dd88-aa42-4f64-a06b-4ce16f372c88 ]] {\r\n",
       "}\r\n",
       "comp usage \"radar: Radar  \" as E5  <<(T,blue) part>> [[psysml:7941b7c9-5c4b-45a2-8e7a-aa2428db5cbc ]] {\r\n",
       "}\r\n",
       "comp def \"Sonar\" as E6  <<(T,blue) part  def>> [[psysml:d3361fba-91b1-43c0-8fa8-be4fccdbf267 ]] {\r\n",
       "}\r\n",
       "comp def \"Radar\" as E7  <<(T,blue) part  def>> [[psysml:70c862dd-9e0e-47fd-b549-f0f3ed3feed9 ]] {\r\n",
       "}\r\n",
       "comp def \"DataProcessingUnit\" as E8  <<(T,blue) part  def>> [[psysml:b1f66938-bfd1-4cc9-9380-6e3fba4a43de ]] {\r\n",
       "}\r\n",
       "comp def \"CommunicationSystem\" as E9  <<(T,blue) part  def>> [[psysml:34e315f1-d537-4555-87c1-461fb191813a ]] {\r\n",
       "}\r\n",
       "comp def \"PowerSupply\" as E10  <<(T,blue) part  def>> [[psysml:7f3b6d14-0cd2-4621-ba55-4faac6f35c96 ]] {\r\n",
       "}\r\n",
       "comp def \"UserInterface\" as E11  <<(T,blue) part  def>> [[psysml:6becd74d-4196-477a-ba92-46e37355c8ea ]] {\r\n",
       "}\r\n",
       "}\r\n",
       "E3 *- - \"1\"E4 [[psysml:e3095fbf-e833-417e-8378-e4ec21d1c568 ]] \r\n",
       "E3 *- - \"1\"E5 [[psysml:52feb32a-84ff-4b1e-ab33-5dd089543ab1 ]] \r\n",
       "E4 - -:|> E6 [[psysml:923ea226-6776-4f63-abac-02fb6f4828d5 ]] \r\n",
       "E5 - -:|> E7 [[psysml:d255f99e-1107-4622-979a-e0757bd93ae7 ]] \r\n",
       "@enduml\r\n",
       "\n",
       "PlantUML version 1.2022.7(Mon Aug 22 13:01:30 EDT 2022)\n",
       "(EPL source distribution)\n",
       "Java Runtime: OpenJDK Runtime Environment\n",
       "JVM: OpenJDK 64-Bit Server VM\n",
       "Default Encoding: UTF-8\n",
       "Language: en\n",
       "Country: US\n",
       "--></g></svg>"
      ]
     },
     "execution_count": 5,
     "metadata": {},
     "output_type": "execute_result"
    }
   ],
   "source": [
    "%viz --view=Tree SubmarineDetectionSystem"
   ]
  },
  {
   "cell_type": "code",
   "execution_count": null,
   "id": "945b0354",
   "metadata": {},
   "outputs": [],
   "source": []
  }
 ],
 "metadata": {
  "kernelspec": {
   "display_name": "SysML",
   "language": "sysml",
   "name": "sysml"
  },
  "language_info": {
   "codemirror_mode": "sysml",
   "file_extension": ".sysml",
   "mimetype": "text/x-sysml",
   "name": "SysML",
   "pygments_lexer": "java",
   "version": "1.0.0"
  }
 },
 "nbformat": 4,
 "nbformat_minor": 5
}
