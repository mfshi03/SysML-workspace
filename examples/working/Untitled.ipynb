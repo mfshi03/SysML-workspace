{
 "cells": [
  {
   "cell_type": "code",
   "execution_count": 5,
   "id": "8f49da63",
   "metadata": {},
   "outputs": [
    {
     "name": "stderr",
     "output_type": "stream",
     "text": [
      "ERROR:no viable alternative at input 'Tricycle' (5.sysml line : 3 column : 9)\n",
      "ERROR:no viable alternative at input 'Wheel' (5.sysml line : 13 column : 9)\n",
      "ERROR:no viable alternative at input 'Frame' (5.sysml line : 21 column : 9)\n"
     ]
    },
    {
     "data": {
      "text/plain": []
     },
     "execution_count": 5,
     "metadata": {},
     "output_type": "execute_result"
    }
   ],
   "source": [
    "package Tricycle {\n",
    "\n",
    "  block Tricycle {\n",
    "    part Frame;\n",
    "    part FrontWheel : Wheel;\n",
    "    part RearWheel_1 : Wheel;\n",
    "    part RearWheel_2 : Wheel;\n",
    "    connect FrontWheel.axle to Frame.front_fork;\n",
    "    connect RearWheel_1.axle to Frame.rear_axle_1;\n",
    "    connect RearWheel_2.axle to Frame.rear_axle_2;\n",
    "  }\n",
    "\n",
    "  block Wheel {\n",
    "    part Rim;\n",
    "    part Tire;\n",
    "    part Axle;\n",
    "    connect Rim.inner_diameter to Tire.outer_diameter;\n",
    "    connect Axle.hub to Rim.inner_diameter;\n",
    "  }\n",
    "\n",
    "  block Frame {\n",
    "    part Seat;\n",
    "    part FrontFork;\n",
    "    part RearAxle_1;\n",
    "    part RearAxle_2;\n",
    "    connect FrontFork.steerer_tube to Seat.seat_post;\n",
    "    connect RearAxle_1.left_dropout to RearAxle_2.right_dropout;\n",
    "  }\n",
    "\n",
    "}"
   ]
  },
  {
   "cell_type": "code",
   "execution_count": null,
   "id": "2a81bf5b",
   "metadata": {},
   "outputs": [],
   "source": []
  },
  {
   "cell_type": "code",
   "execution_count": null,
   "id": "d9a02b2d",
   "metadata": {},
   "outputs": [],
   "source": []
  }
 ],
 "metadata": {
  "kernelspec": {
   "display_name": "SysML",
   "language": "sysml",
   "name": "sysml"
  },
  "language_info": {
   "codemirror_mode": "sysml",
   "file_extension": ".sysml",
   "mimetype": "text/x-sysml",
   "name": "SysML",
   "pygments_lexer": "java",
   "version": "1.0.0"
  }
 },
 "nbformat": 4,
 "nbformat_minor": 5
}
