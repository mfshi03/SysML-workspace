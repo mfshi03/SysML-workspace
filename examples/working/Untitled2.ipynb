{
 "cells": [
  {
   "cell_type": "code",
   "execution_count": null,
   "id": "6a4c3f21",
   "metadata": {},
   "outputs": [],
   "source": [
    "package TruckModel {\n",
    "\n",
    "  part def Engine;\n",
    "  part def Transmission;\n",
    "  part def Drivetrain;\n",
    "  part def Wheel;\n",
    "  part def Suspension;\n",
    "  part def Brakes;\n",
    "  part def SteeringSystem;\n",
    "  part def Frame;\n",
    "  part def Cab;\n",
    "  part def CargoArea;\n",
    "  \n",
    "  \n",
    "  part fram {\n",
    "\n",
    "      attribute material : Material;\n",
    "      attribute weight : MassValue;\n",
    "      port frontMount : MountPoint;\n",
    "      port rearMount : MountPoint;\n",
    "      perform action supportWeight;\n",
    "\n",
    "   }\n",
    "    \n",
    "  \n",
    "  part truck : Truck {\n",
    "    \n",
    "\n",
    "    // Composite Parts\n",
    "    part engine : Engine;\n",
    "    part transmission : Transmission;\n",
    "    part drivetrain : Drivetrain;\n",
    "    part frontWheels : Wheel [2];\n",
    "    part rearWheels : Wheel [2];\n",
    "    part suspension : Suspension;\n",
    "    part brakes : Brakes;\n",
    "    part steeringSystem : SteeringSystem;\n",
    "    //part frame : Frame;\n",
    "    part cab : Cab;\n",
    "    part cargoArea : CargoArea;\n",
    "\n",
    "    // Connections\n",
    "    connect engine.power to transmission.input;\n",
    "    connect transmission.output to drivetrain.input;\n",
    "    connect drivetrain.frontOutput to frontWheels.input;\n",
    "    connect drivetrain.rearOutput to rearWheels.input;\n",
    "    //connect suspension.input to frame.output;\n",
    "    connect brakes.input to wheels.output;\n",
    "    connect steeringSystem.input to frontWheels.steering;\n",
    "  }\n",
    "\n",
    "}"
   ]
  },
  {
   "cell_type": "code",
   "execution_count": null,
   "id": "f5dd3512",
   "metadata": {},
   "outputs": [],
   "source": []
  },
  {
   "cell_type": "code",
   "execution_count": null,
   "id": "b15058c9",
   "metadata": {},
   "outputs": [],
   "source": []
  }
 ],
 "metadata": {
  "kernelspec": {
   "display_name": "SysML",
   "language": "sysml",
   "name": "sysml"
  },
  "language_info": {
   "codemirror_mode": "sysml",
   "file_extension": ".sysml",
   "mimetype": "text/x-sysml",
   "name": "SysML",
   "pygments_lexer": "java",
   "version": "1.0.0"
  }
 },
 "nbformat": 4,
 "nbformat_minor": 5
}
