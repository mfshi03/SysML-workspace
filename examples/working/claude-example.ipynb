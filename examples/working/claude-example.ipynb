{
 "cells": [
  {
   "cell_type": "code",
   "execution_count": 4,
   "id": "a3a0f10a",
   "metadata": {},
   "outputs": [
    {
     "name": "stderr",
     "output_type": "stream",
     "text": [
      "ERROR:no viable alternative at input ':' (4.sysml line : 3 column : 17)\n",
      "ERROR:no viable alternative at input 'Chassis' (4.sysml line : 13 column : 9)\n",
      "ERROR:no viable alternative at input 'Engine' (4.sysml line : 17 column : 9)\n",
      "ERROR:no viable alternative at input 'Transmission' (4.sysml line : 22 column : 9)\n",
      "ERROR:no viable alternative at input 'Wheel' (4.sysml line : 28 column : 9)\n",
      "ERROR:no viable alternative at input 'Brake' (4.sysml line : 33 column : 9)\n",
      "ERROR:no viable alternative at input 'Cab' (4.sysml line : 37 column : 9)\n",
      "ERROR:no viable alternative at input 'CargoBed' (4.sysml line : 41 column : 9)\n",
      "ERROR:no viable alternative at input 'PowerConnect' (4.sysml line : 54 column : 13)\n",
      "ERROR:no viable alternative at input 'TorqueConnect' (4.sysml line : 58 column : 13)\n",
      "ERROR:no viable alternative at input 'using' (4.sysml line : 63 column : 42)\n",
      "ERROR:no viable alternative at input 'PowerConnect' (4.sysml line : 63 column : 48)\n",
      "ERROR:no viable alternative at input 'using' (4.sysml line : 64 column : 48)\n",
      "ERROR:no viable alternative at input 'TorqueConnect' (4.sysml line : 64 column : 54)\n"
     ]
    },
    {
     "data": {
      "text/plain": []
     },
     "execution_count": 4,
     "metadata": {},
     "output_type": "execute_result"
    }
   ],
   "source": [
    "package Truck {\n",
    "\n",
    "  part def Truck: Truck {\n",
    "    part chassis: Chassis;\n",
    "    part engine: Engine;\n",
    "    part transmission: Transmission;\n",
    "    part wheels: Wheel[4];\n",
    "    part brakes: Brake[4];\n",
    "    part cab: Cab;\n",
    "    part cargo_bed: CargoBed;\n",
    "  }\n",
    "\n",
    "  block Chassis {\n",
    "    // Chassis specifications and properties\n",
    "  }\n",
    "\n",
    "  block Engine {\n",
    "    // Engine specifications and properties\n",
    "    out pwr: Power;\n",
    "  }\n",
    "\n",
    "  block Transmission {\n",
    "    // Transmission specifications and properties\n",
    "    in pwr: Power;\n",
    "    out torque: Torque;\n",
    "  }\n",
    "\n",
    "  block Wheel {\n",
    "    // Wheel specifications and properties\n",
    "    in torque: Torque;\n",
    "  }\n",
    "\n",
    "  block Brake {\n",
    "    // Brake specifications and properties\n",
    "  }\n",
    "\n",
    "  block Cab {\n",
    "    // Cab specifications and properties\n",
    "  }\n",
    "\n",
    "  block CargoBed {\n",
    "    // Cargo bed specifications and properties\n",
    "  }\n",
    "\n",
    "  flow Power {\n",
    "    // Power flow specification\n",
    "  }\n",
    "\n",
    "  flow Torque {\n",
    "    // Torque flow specification\n",
    "  }\n",
    "\n",
    "  // Connectors\n",
    "  connector PowerConnect {\n",
    "    out pwr: Power;\n",
    "  }\n",
    "\n",
    "  connector TorqueConnect {\n",
    "    out torque: Torque;\n",
    "  }\n",
    "\n",
    "  // Connections\n",
    "  connect engine.pwr to transmission.pwr using PowerConnect;\n",
    "  connect transmission.torque to wheels.torque using TorqueConnect;\n",
    "\n",
    "}"
   ]
  },
  {
   "cell_type": "code",
   "execution_count": null,
   "id": "17f10e05",
   "metadata": {},
   "outputs": [],
   "source": []
  }
 ],
 "metadata": {
  "kernelspec": {
   "display_name": "SysML",
   "language": "sysml",
   "name": "sysml"
  },
  "language_info": {
   "codemirror_mode": "sysml",
   "file_extension": ".sysml",
   "mimetype": "text/x-sysml",
   "name": "SysML",
   "pygments_lexer": "java",
   "version": "1.0.0"
  }
 },
 "nbformat": 4,
 "nbformat_minor": 5
}
