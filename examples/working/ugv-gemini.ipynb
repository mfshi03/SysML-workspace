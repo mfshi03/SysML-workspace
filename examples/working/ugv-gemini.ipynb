{
 "cells": [
  {
   "cell_type": "code",
   "execution_count": 12,
   "id": "222b5c31",
   "metadata": {},
   "outputs": [
    {
     "name": "stderr",
     "output_type": "stream",
     "text": [
      "ERROR:Features must have at least one type (12.sysml line : 28 column : 7)\n",
      "ERROR:Features must have at least one type (12.sysml line : 32 column : 7)\n",
      "ERROR:Features must have at least one type (12.sysml line : 33 column : 7)\n",
      "ERROR:An attribute must be typed by attribute definitions. (12.sysml line : 43 column : 7)\n",
      "ERROR:Features must have at least one type (12.sysml line : 43 column : 7)\n",
      "ERROR:An attribute must be typed by attribute definitions. (12.sysml line : 44 column : 7)\n",
      "ERROR:Features must have at least one type (12.sysml line : 44 column : 7)\n",
      "ERROR:An attribute must be typed by attribute definitions. (12.sysml line : 45 column : 7)\n",
      "ERROR:Features must have at least one type (12.sysml line : 45 column : 7)\n"
     ]
    },
    {
     "name": "stdout",
     "output_type": "stream",
     "text": [
      "WARNING:Duplicate of other owned member name (12.sysml line : 43 column : 17)\n",
      "WARNING:Duplicate of other owned member name (12.sysml line : 55 column : 27)\n",
      "WARNING:Duplicate of inherited member name (12.sysml line : 61 column : 22)\n",
      "WARNING:Duplicate of inherited member name (12.sysml line : 62 column : 27)\n"
     ]
    },
    {
     "data": {
      "text/plain": []
     },
     "execution_count": 12,
     "metadata": {},
     "output_type": "execute_result"
    }
   ],
   "source": [
    "package UGVModel {\n",
    "  import ISQ::*;\n",
    "  \n",
    "    port def PowerPort {\n",
    "\n",
    "    \n",
    "    }\n",
    "    \n",
    "    port def ControlPort {\n",
    "    \n",
    "    }\n",
    "\n",
    "    action def MoveAction {\n",
    "\n",
    "    }\n",
    "    \n",
    "    action def BrakeAction {\n",
    "        \n",
    "    }\n",
    "    \n",
    "    state def OperationalState {\n",
    "\n",
    "    }\n",
    "    \n",
    "    \n",
    "    part def Wheel {\n",
    "      port torqueInput;\n",
    "      port steeringInput;\n",
    "      in diameter : ISQ::length;\n",
    "    }\n",
    "\n",
    "    action def MoveForward {\n",
    "      in speed : ISQ::speed;\n",
    "      out wheelTorque : ISQ::torque[4];\n",
    "    }\n",
    "\n",
    "    requirement def MaxSpeedRequirement {\n",
    "      subject vehicle : Vehicle;\n",
    "      require constraint { vehicle.maxSpeed <= 10 [SI::km / SI::h] }\n",
    "    }\n",
    "\n",
    "  \n",
    "  part def Vehicle {\n",
    "      attribute maxSpeed : ISQ::speed;\n",
    "      attribute mass : ISQ::mass;\n",
    "      attribute dimensions : ISQ::length[3];\n",
    "\n",
    "      port powerInput : PowerPort;\n",
    "      port controlInput : ControlPort;\n",
    "\n",
    "      perform action move : MoveAction;\n",
    "      perform action brake : BrakeAction;\n",
    "\n",
    "      exhibit state operational : OperationalState;\n",
    "\n",
    "      satisfy requirement maxSpeed : MaxSpeedRequirement;\n",
    "  }\n",
    "  \n",
    "  package UGV_A {\n",
    "    part ugv : Vehicle {\n",
    "      part wheels : Wheel[4];\n",
    "      perform action move : MoveForward;\n",
    "      satisfy requirement maxSpeed : MaxSpeedRequirement;\n",
    "    }\n",
    "\n",
    "    connect ugv.wheels.torqueInput to ugv.move.wheelTorque;\n",
    "  }\n",
    "}"
   ]
  },
  {
   "cell_type": "code",
   "execution_count": null,
   "id": "92da04a5",
   "metadata": {},
   "outputs": [],
   "source": []
  },
  {
   "cell_type": "code",
   "execution_count": null,
   "id": "8fd0ac12",
   "metadata": {},
   "outputs": [],
   "source": []
  }
 ],
 "metadata": {
  "kernelspec": {
   "display_name": "SysML",
   "language": "sysml",
   "name": "sysml"
  },
  "language_info": {
   "codemirror_mode": "sysml",
   "file_extension": ".sysml",
   "mimetype": "text/x-sysml",
   "name": "SysML",
   "pygments_lexer": "java",
   "version": "1.0.0"
  }
 },
 "nbformat": 4,
 "nbformat_minor": 5
}
